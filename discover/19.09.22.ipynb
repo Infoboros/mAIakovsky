{
 "cells": [
  {
   "cell_type": "code",
   "execution_count": 1,
   "metadata": {
    "collapsed": true,
    "pycharm": {
     "name": "#%%\n"
    }
   },
   "outputs": [],
   "source": [
    "from word2vec_models import LibrusecModel\n",
    "\n",
    "model = LibrusecModel()"
   ]
  },
  {
   "cell_type": "code",
   "execution_count": 1,
   "outputs": [],
   "source": [],
   "metadata": {
    "collapsed": false,
    "pycharm": {
     "name": "#%%\n"
    }
   }
  },
  {
   "cell_type": "code",
   "execution_count": 2,
   "outputs": [],
   "source": [
    "from generators import Word2VecGenerator\n",
    "text = 'любовь чувства влюбленность'\n",
    "generator = Word2VecGenerator(model, text.split(' '))"
   ],
   "metadata": {
    "collapsed": false,
    "pycharm": {
     "name": "#%%\n"
    }
   }
  },
  {
   "cell_type": "code",
   "execution_count": 8,
   "outputs": [
    {
     "name": "stdout",
     "output_type": "stream",
     "text": [
      "1\n",
      "1\n",
      "чья ревность печаль юмора\n",
      "боль сердечная\n",
      "болью боль сердце жгучая\n",
      "дрожь горле биться чувствуя\n",
      "/_/_/_/_\n",
      "/_/_/_/_\n",
      "/_/_/_/_\n",
      "/_/_/_/_\n",
      "/_/_/_/_\n",
      "/_/_/_/_\n",
      "/_/_/_/_\n",
      "/_/_/_/_\n",
      "/_/_/_/_\n",
      "/_/_/_/_\n",
      "/_/_/_/_\n",
      "11\n"
     ]
    }
   ],
   "source": [
    "rows = generator.generate(4)\n",
    "for row in rows:\n",
    "    print(' '.join([word.word for word in row]))\n",
    "\n",
    "print(len([print(miss.metre_tail) for miss in generator.statistic.miss_metre_records]))"
   ],
   "metadata": {
    "collapsed": false,
    "pycharm": {
     "name": "#%%\n"
    }
   }
  },
  {
   "cell_type": "code",
   "execution_count": 4,
   "outputs": [],
   "source": [],
   "metadata": {
    "collapsed": false,
    "pycharm": {
     "name": "#%%\n"
    }
   }
  },
  {
   "cell_type": "code",
   "execution_count": 3,
   "outputs": [],
   "source": [],
   "metadata": {
    "collapsed": false,
    "pycharm": {
     "name": "#%%\n"
    }
   }
  }
 ],
 "metadata": {
  "kernelspec": {
   "display_name": "Python 3",
   "language": "python",
   "name": "python3"
  },
  "language_info": {
   "codemirror_mode": {
    "name": "ipython",
    "version": 2
   },
   "file_extension": ".py",
   "mimetype": "text/x-python",
   "name": "python",
   "nbconvert_exporter": "python",
   "pygments_lexer": "ipython2",
   "version": "2.7.6"
  }
 },
 "nbformat": 4,
 "nbformat_minor": 0
}