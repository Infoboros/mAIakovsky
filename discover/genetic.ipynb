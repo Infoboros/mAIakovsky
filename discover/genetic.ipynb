{
 "cells": [
  {
   "cell_type": "code",
   "execution_count": 1,
   "metadata": {
    "collapsed": true,
    "pycharm": {
     "name": "#%%\n"
    }
   },
   "outputs": [],
   "source": [
    "\n",
    "\n",
    "from word_processing import Word\n",
    "from abc import ABC, abstractmethod\n",
    "\n",
    "\n",
    "class Population(ABC):\n",
    "\n",
    "    def __init__(self, list_individuals: [], embedding, fit_function):\n",
    "        self.population = list_individuals\n",
    "        self.embedding = embedding\n",
    "        self.fit_function = fit_function\n",
    "\n",
    "    def mutating(self):\n",
    "        self.population = [\n",
    "            self.mutate_individual(individual)\n",
    "            for individual in self.population\n",
    "        ]\n",
    "\n",
    "    def crossing(self):\n",
    "        cross_results = [\n",
    "            self.cross_individual(individual)\n",
    "            for individual in self.population\n",
    "        ]\n",
    "\n",
    "        new_population = []\n",
    "        for cross_result in cross_results:\n",
    "            new_population += cross_result\n",
    "\n",
    "        self.population = new_population\n",
    "\n",
    "    @staticmethod\n",
    "    def filter_copies(individuals: [[[Word]]]) -> [[[Word]]]:\n",
    "\n",
    "        def equal_individuals(first, second):\n",
    "            for index_row, row in enumerate(first):\n",
    "                for index_word, word in enumerate(row):\n",
    "                    if word.word != second[index_row][index_word]:\n",
    "                        return False\n",
    "            return True\n",
    "\n",
    "        return list(\n",
    "            filter(\n",
    "                lambda individual: not any([equal_individuals(individual, other) for other in individuals]),\n",
    "                individuals\n",
    "            )\n",
    "        )\n",
    "\n",
    "    def selection(self, topn: int):\n",
    "        fitted_individuals = [\n",
    "            {\n",
    "                'rate': self.fit_function(individual),\n",
    "                'individual': individual\n",
    "            }\n",
    "            for individual in self.filter_copies(self.population)\n",
    "        ]\n",
    "\n",
    "        fitted_individuals.sort(key=lambda individual: individual['rate'], reverse=True)\n",
    "\n",
    "        filtered_individuals = fitted_individuals[:topn]\n",
    "\n",
    "        return self._get_population([rated_individual['individual'] for rated_individual in filtered_individuals]), \\\n",
    "               [ rated_individual['rate'] for rated_individual in filtered_individuals]\n",
    "\n",
    "    @abstractmethod\n",
    "    def cross_individual(self, individual):\n",
    "        raise NotImplemented()\n",
    "\n",
    "    @abstractmethod\n",
    "    def mutate_individual(self, individual):\n",
    "        raise NotImplemented()\n",
    "\n",
    "    @abstractmethod\n",
    "    def _get_population(self, individuals: []):\n",
    "        raise NotImplemented()\n",
    "\n",
    "    def size(self) -> int:\n",
    "        return len(self.population)\n",
    "\n",
    "    def print_3d_population(self):\n",
    "        for index, individual in enumerate(self.population):\n",
    "            print(f'Индивид {index}')\n",
    "            for row in individual:\n",
    "                print(' '.join([str(word) for word in row]))\n",
    "            print()\n",
    "\n"
   ]
  },
  {
   "cell_type": "code",
   "execution_count": 2,
   "outputs": [],
   "source": [
    "class MockPopulation(Population):\n",
    "\n",
    "    def _get_population(self, individuals: []):\n",
    "        return MockPopulation(individuals, self.embedding, self.fit_function)\n",
    "\n",
    "    def cross_individual(self, individual):\n",
    "        if len(individual) == 1:\n",
    "            return [individual]\n",
    "        return [individual, individual[:len(individual) - 1]]\n",
    "\n",
    "    def mutate_individual(self, individual):\n",
    "        return individual"
   ],
   "metadata": {
    "collapsed": false,
    "pycharm": {
     "name": "#%%\n"
    }
   }
  },
  {
   "cell_type": "code",
   "execution_count": 3,
   "outputs": [],
   "source": [
    "from word_processing import Word\n",
    "from random import randint, choices\n",
    "\n",
    "def copy(matrix):\n",
    "    return [\n",
    "        [item for item in row]\n",
    "        for row in matrix\n",
    "    ]\n",
    "class SimplePopulation(Population):\n",
    "\n",
    "    def _get_population(self, individuals: []):\n",
    "        return SimplePopulation(individuals, self.embedding, self.fit_function)\n",
    "\n",
    "    def cross_individual(self, individual):\n",
    "        return [\n",
    "            copy(individual),\n",
    "            copy(individual)\n",
    "        ]\n",
    "\n",
    "\n",
    "    @staticmethod\n",
    "    def equal_metres(word_metre: str, predict_metre: str) -> bool:\n",
    "        if len(word_metre) != len(predict_metre):\n",
    "            return False\n",
    "\n",
    "        for index, syllable in enumerate(word_metre):\n",
    "            predict_syllable = predict_metre[index]\n",
    "            if (predict_syllable != '/') and (predict_syllable != syllable):\n",
    "                return False\n",
    "\n",
    "        return True\n",
    "\n",
    "    def mutate_individual(self, individual):\n",
    "        def mutate_word(word: Word):\n",
    "            if randint(1, 10) == 3:\n",
    "                word_metre = word.metre\n",
    "                predicted_words = self.embedding.predict_next_word([word], 20)\n",
    "                metre_approved_words = list(\n",
    "                    filter(\n",
    "                        lambda predicted_word: self.equal_metres(word_metre, Word(predicted_word[0]).metre),\n",
    "                        predicted_words\n",
    "                    )\n",
    "                )\n",
    "                if metre_approved_words:\n",
    "                    words, weights = list(zip(*metre_approved_words))\n",
    "                    return Word(\n",
    "                        choices(words, weights)[0]\n",
    "                    )\n",
    "            return word\n",
    "\n",
    "        return [\n",
    "            [\n",
    "                mutate_word(word)\n",
    "                for word in row\n",
    "            ]\n",
    "            for row in individual\n",
    "        ]\n"
   ],
   "metadata": {
    "collapsed": false,
    "pycharm": {
     "name": "#%%\n"
    }
   }
  },
  {
   "cell_type": "code",
   "execution_count": 4,
   "outputs": [],
   "source": [
    "\n",
    "class Genetic:\n",
    "    def __init__(self, population: Population):\n",
    "        self.population_size = population.size()\n",
    "        self.population = population\n",
    "        self.history = []\n",
    "\n",
    "    def next_population(self) -> Population:\n",
    "        self.population.crossing()\n",
    "        self.population.mutating()\n",
    "        self.population, fit_history = self.population.selection(self.population_size)\n",
    "\n",
    "        self.history.append(fit_history)\n",
    "\n",
    "        return self.population"
   ],
   "metadata": {
    "collapsed": false,
    "pycharm": {
     "name": "#%%\n"
    }
   }
  },
  {
   "cell_type": "code",
   "execution_count": 5,
   "outputs": [],
   "source": [
    "from word2vec_models import TaigaStihiModel\n",
    "from generators import Word2VecGenerator\n",
    "\n",
    "base_context = [word for word in 'любовь смерть'.split(' ')]\n",
    "embedding = TaigaStihiModel()\n",
    "generator = Word2VecGenerator(embedding, base_context)"
   ],
   "metadata": {
    "collapsed": false,
    "pycharm": {
     "name": "#%%\n"
    }
   }
  },
  {
   "cell_type": "code",
   "execution_count": 6,
   "outputs": [],
   "source": [
    "five_yamb = '_/_/_/_/_/'\n",
    "adam = generator.generate(metre_scheme=five_yamb)\n",
    "eve = generator.generate(metre_scheme=five_yamb)"
   ],
   "metadata": {
    "collapsed": false,
    "pycharm": {
     "name": "#%%\n"
    }
   }
  },
  {
   "cell_type": "code",
   "execution_count": 7,
   "outputs": [
    {
     "name": "stdout",
     "output_type": "stream",
     "text": [
      "Индивид 0\n",
      "медленную бессмертна царствует\n",
      "скорбь тьма\n",
      "мрак кромешная\n",
      "мгла кромешный\n",
      "\n",
      "Индивид 1\n",
      "вселенская поправ смертельная\n",
      "паника тварь печаль смертельная\n",
      "божья скука сладостная злая\n",
      "штука тяжкая тишь жуть смертная\n",
      "\n"
     ]
    }
   ],
   "source": [
    "MockPopulation([adam, eve], lambda x:x, {}).print_3d_population()"
   ],
   "metadata": {
    "collapsed": false,
    "pycharm": {
     "name": "#%%\n"
    }
   }
  },
  {
   "cell_type": "code",
   "execution_count": 8,
   "outputs": [],
   "source": [
    "from meaning_classifier import MeaningClassifierCNNTaiga\n",
    "\n",
    "classifier = MeaningClassifierCNNTaiga()\n"
   ],
   "metadata": {
    "collapsed": false,
    "pycharm": {
     "name": "#%%\n"
    }
   }
  },
  {
   "cell_type": "code",
   "execution_count": 14,
   "outputs": [
    {
     "name": "stdout",
     "output_type": "stream",
     "text": [
      "Первое поколение\n",
      "Индивид 0\n",
      "вселенская поправ смертельная\n",
      "паника тварь печаль смертельная\n",
      "божья скука сладостная злая\n",
      "штука тяжкая тишь жуть смертная\n",
      "\n",
      "Индивид 1\n",
      "вселенская поправ смертельная\n",
      "паника тварь печаль смертельная\n",
      "божья скука сладостная злая\n",
      "штука тяжкая тишь жуть смертная\n",
      "\n",
      "Индивид 2\n",
      "вселенская поправ смертельная\n",
      "паника тварь печаль смертельная\n",
      "божья скука сладостная злая\n",
      "штука тяжкая тишь жуть смертная\n",
      "\n"
     ]
    }
   ],
   "source": [
    "population = SimplePopulation([eve, eve, eve], embedding, classifier.classify_paragraph)\n",
    "print('Первое поколение')\n",
    "population.print_3d_population()"
   ],
   "metadata": {
    "collapsed": false,
    "pycharm": {
     "name": "#%%\n"
    }
   }
  },
  {
   "cell_type": "code",
   "execution_count": 15,
   "outputs": [],
   "source": [
    "genetic = Genetic(population)"
   ],
   "metadata": {
    "collapsed": false,
    "pycharm": {
     "name": "#%%\n"
    }
   }
  },
  {
   "cell_type": "code",
   "execution_count": 16,
   "outputs": [
    {
     "name": "stdout",
     "output_type": "stream",
     "text": [
      "Поколение 2\n",
      "Индивид 0\n",
      "энергия поправ смертельная\n",
      "паника тварь печаль смертельная\n",
      "божья скука сладостная злая\n",
      "эта тяжкая тишь жуть смертная\n",
      "\n",
      "Индивид 1\n",
      "вселенская поправ смертельная\n",
      "паника тварь печаль смертельная\n",
      "божья скука сладостная злая\n",
      "штука тяжкая тишь жуть смертная\n",
      "\n",
      "Индивид 2\n",
      "вселенская поправ смертельная\n",
      "паника тварь печаль смертельная\n",
      "божья скука сладостная злая\n",
      "штука тяжкая тишь жуть смертная\n",
      "\n",
      "Поколение 3\n",
      "Индивид 0\n",
      "энергия поправ смертельная\n",
      "паника тварь печаль смертельная\n",
      "божья скука сладостная злая\n",
      "эта тяжкая тишь жуть смертная\n",
      "\n",
      "Индивид 1\n",
      "энергия поправ смертельная\n",
      "паника тварь печаль смертельная\n",
      "божья скука сладостная злая\n",
      "эта тяжкая тишь жуть смертная\n",
      "\n",
      "Индивид 2\n",
      "вселенская поправ смертельная\n",
      "паника тварь печаль смертельная\n",
      "божья скука сладостная злая\n",
      "эта тяжкая тишь жуть смертная\n",
      "\n",
      "Поколение 4\n",
      "Индивид 0\n",
      "энергия поправ смертельная\n",
      "паника тварь печаль смертельная\n",
      "божья скука сладостная злая\n",
      "эта самая тишь жуть смертная\n",
      "\n",
      "Индивид 1\n",
      "энергия поправ смертельная\n",
      "страшная тварь печаль смертельная\n",
      "божья скука сладостная злая\n",
      "эта тяжкая тишь жуть смертная\n",
      "\n",
      "Индивид 2\n",
      "энергия поправ смертельная\n",
      "паника тварь печаль смертельная\n",
      "божья скука сладостная злая\n",
      "эта тяжкая тишь жуть смертная\n",
      "\n",
      "Поколение 5\n",
      "Индивид 0\n",
      "энергия поправ смертельная\n",
      "паника тварь печаль смертельная\n",
      "божья скука сладостная злая\n",
      "эта самая тишь жуть смертная\n",
      "\n",
      "Индивид 1\n",
      "энергия поправ смертельная\n",
      "паника тварь печаль смертельная\n",
      "божья скука сладостная злая\n",
      "эта самая тишь жуть смертная\n",
      "\n",
      "Индивид 2\n",
      "энергия поправ смертельная\n",
      "страшная тварь печаль смертельная\n",
      "божья скука сладостная злая\n",
      "эта тяжкая тишь жуть смертная\n",
      "\n",
      "Поколение 6\n",
      "Индивид 0\n",
      "энергия поправ смертельная\n",
      "паника тварь печаль смертельная\n",
      "божья скука сладостная злая\n",
      "эта самая тишь жуть смертная\n",
      "\n",
      "Индивид 1\n",
      "энергия поправ смертельная\n",
      "паника тварь печаль смертельная\n",
      "божья скука сладостная злая\n",
      "эта самая тишь жуть смертная\n",
      "\n",
      "Индивид 2\n",
      "энергия поправ смертельная\n",
      "паника тварь печаль смертельная\n",
      "божья скука сладостная злая\n",
      "эта самая тишь жуть смертная\n",
      "\n",
      "Поколение 7\n",
      "Индивид 0\n",
      "энергия поправ смертельная\n",
      "паника тварь печаль смертельная\n",
      "божья скука сладостная злая\n",
      "эта самая тишь жуть смертная\n",
      "\n",
      "Индивид 1\n",
      "энергия поправ смертельная\n",
      "паника тварь печаль смертельная\n",
      "божья скука сладостная злая\n",
      "эта самая тишь жуть смертная\n",
      "\n",
      "Индивид 2\n",
      "энергия поправ смертельная\n",
      "паника тварь печаль смертельная\n",
      "божья скука сладостная злая\n",
      "эта самая тишь жуть смертная\n",
      "\n",
      "Поколение 8\n",
      "Индивид 0\n",
      "энергия поправ смертельная\n",
      "паника тварь развей смертельная\n",
      "божья скука сладостная злая\n",
      "эта самая тишь жуть смертная\n",
      "\n",
      "Индивид 1\n",
      "энергия поправ смертельная\n",
      "паника тварь печаль смертельная\n",
      "божья скука сладостная злая\n",
      "эта самая тишь жуть смертная\n",
      "\n",
      "Индивид 2\n",
      "энергия поправ смертельная\n",
      "паника тварь печаль смертельная\n",
      "божья скука сладостная злая\n",
      "эта самая тишь жуть смертная\n",
      "\n",
      "Поколение 9\n",
      "Индивид 0\n",
      "энергия поправ смертельная\n",
      "паника тварь развей смертельная\n",
      "божья скука сладостная злая\n",
      "эта самая тишь жуть смертная\n",
      "\n",
      "Индивид 1\n",
      "энергия поправ смертельная\n",
      "паника тварь печаль смертельная\n",
      "божья скука сладостная злая\n",
      "эта самая тишь жуть смертная\n",
      "\n",
      "Индивид 2\n",
      "энергия поправ смертельная\n",
      "паника тварь печаль смертельная\n",
      "божья скука сладостная злая\n",
      "эта самая тишь жуть смертная\n",
      "\n",
      "Поколение 10\n",
      "Индивид 0\n",
      "энергия поправ смертельная\n",
      "страшная тварь развей смертельная\n",
      "божья скука сладостная злая\n",
      "эта самая тишь жуть смертная\n",
      "\n",
      "Индивид 1\n",
      "энергия поправ смертельная\n",
      "паника тварь печаль смертельная\n",
      "божья скука сладостная злая\n",
      "эта самая гладь жуть смертная\n",
      "\n",
      "Индивид 2\n",
      "энергия поправ смертельная\n",
      "паника тварь печаль смертельная\n",
      "божья скука сладостная злая\n",
      "эта самая тишь жуть смертная\n",
      "\n",
      "Поколение 11\n",
      "Индивид 0\n",
      "энергия поправ смертельная\n",
      "страшная тварь развей смертельная\n",
      "божья скука сладостная злая\n",
      "эта самая тишь жуть смертная\n",
      "\n",
      "Индивид 1\n",
      "энергия поправ смертельная\n",
      "паника тварь печаль смертельная\n",
      "божья скука сладостная злая\n",
      "эта самая гладь жуть смертная\n",
      "\n",
      "Индивид 2\n",
      "энергия поправ смертельная\n",
      "паника тварь печаль смертельная\n",
      "божья скука сладостная злая\n",
      "эта самая тишь жуть смертная\n",
      "\n"
     ]
    }
   ],
   "source": [
    "for generation in range(10):\n",
    "    print(f'Поколение {generation + 2}')\n",
    "    genetic.next_population().print_3d_population()"
   ],
   "metadata": {
    "collapsed": false,
    "pycharm": {
     "name": "#%%\n"
    }
   }
  },
  {
   "cell_type": "code",
   "execution_count": 13,
   "outputs": [
    {
     "data": {
      "text/plain": "<Figure size 640x480 with 1 Axes>",
      "image/png": "[encoded data removed]"
     },
     "metadata": {},
     "output_type": "display_data"
    }
   ],
   "source": [
    "xs = range(len(genetic.history))\n",
    "history = list(zip(*genetic.history))\n",
    "\n",
    "import matplotlib.pyplot as plt\n",
    "\n",
    "for individual in history:\n",
    "    plt.plot(xs[2:], individual[2:])\n",
    "\n",
    "plt.title('Процесс селекции')\n",
    "plt.ylabel('Критерий смысла')\n",
    "plt.xlabel('Номер эпохи')\n",
    "plt.legend([index+1 for index in range(len(history))], loc='upper left')\n",
    "plt.show()"
   ],
   "metadata": {
    "collapsed": false,
    "pycharm": {
     "name": "#%%\n"
    }
   }
  },
  {
   "cell_type": "code",
   "execution_count": null,
   "outputs": [],
   "source": [
    "print(list(embedding.predict_next_word([Word('курить')], 1000)))"
   ],
   "metadata": {
    "collapsed": false,
    "pycharm": {
     "name": "#%%\n"
    }
   }
  },
  {
   "cell_type": "code",
   "execution_count": null,
   "outputs": [],
   "source": [],
   "metadata": {
    "collapsed": false,
    "pycharm": {
     "name": "#%%\n"
    }
   }
  }
 ],
 "metadata": {
  "kernelspec": {
   "display_name": "Python 3",
   "language": "python",
   "name": "python3"
  },
  "language_info": {
   "codemirror_mode": {
    "name": "ipython",
    "version": 2
   },
   "file_extension": ".py",
   "mimetype": "text/x-python",
   "name": "python",
   "nbconvert_exporter": "python",
   "pygments_lexer": "ipython2",
   "version": "2.7.6"
  }
 },
 "nbformat": 4,
 "nbformat_minor": 0
}
