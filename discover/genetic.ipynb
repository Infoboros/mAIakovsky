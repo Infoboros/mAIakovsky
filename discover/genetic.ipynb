{
 "cells": [
  {
   "cell_type": "code",
   "execution_count": 41,
   "metadata": {
    "collapsed": true,
    "pycharm": {
     "name": "#%%\n"
    }
   },
   "outputs": [],
   "source": [
    "\n",
    "\n",
    "from abc import ABC, abstractmethod\n",
    "\n",
    "\n",
    "class Population(ABC):\n",
    "\n",
    "    def __init__(self, list_individuals: [], fit_function):\n",
    "        self.population = list_individuals\n",
    "        self.fit_function = fit_function\n",
    "\n",
    "    def mutating(self):\n",
    "        self.population = [\n",
    "            self.mutate_individual(individual)\n",
    "            for individual in self.population\n",
    "        ]\n",
    "\n",
    "    def crossing(self):\n",
    "        cross_results = [\n",
    "            self.cross_individual(individual)\n",
    "            for individual in self.population\n",
    "        ]\n",
    "\n",
    "        new_population = []\n",
    "        for cross_result in cross_results:\n",
    "            new_population += cross_result\n",
    "\n",
    "        self.population = new_population\n",
    "\n",
    "    def selection(self, topn: int):\n",
    "        fitted_individuals = [\n",
    "            {\n",
    "                'rate': self.fit_function(individual),\n",
    "                'individual': individual\n",
    "            }\n",
    "            for individual in self.population\n",
    "        ]\n",
    "\n",
    "        fitted_individuals.sort(key=lambda individual: individual['rate'], reverse=True)\n",
    "\n",
    "        return self._get_population([\n",
    "            rated_individual['individual']\n",
    "            for rated_individual in fitted_individuals[:topn]\n",
    "        ])\n",
    "\n",
    "    @abstractmethod\n",
    "    def cross_individual(self, individual):\n",
    "        raise NotImplemented()\n",
    "\n",
    "    @abstractmethod\n",
    "    def mutate_individual(self, individual):\n",
    "        raise NotImplemented()\n",
    "\n",
    "    @abstractmethod\n",
    "    def _get_population(self, individuals: []):\n",
    "        raise NotImplemented()\n",
    "\n",
    "    def size(self) -> int:\n",
    "        return len(self.population)\n",
    "\n",
    "    def print_3d_population(self):\n",
    "        for index, individual in enumerate(self.population):\n",
    "            print(f'Индивид {index}')\n",
    "            for row in individual:\n",
    "                print(' '.join([str(word) for word in row]))\n",
    "            print()\n",
    "\n"
   ]
  },
  {
   "cell_type": "code",
   "execution_count": 42,
   "outputs": [],
   "source": [
    "class MockPopulation(Population):\n",
    "\n",
    "    def _get_population(self, individuals: []):\n",
    "        return MockPopulation(individuals, self.fit_function)\n",
    "\n",
    "    def cross_individual(self, individual):\n",
    "        if len(individual) == 1:\n",
    "            return [individual]\n",
    "        return [individual, individual[:len(individual) - 1]]\n",
    "\n",
    "    def mutate_individual(self, individual):\n",
    "        return individual"
   ],
   "metadata": {
    "collapsed": false,
    "pycharm": {
     "name": "#%%\n"
    }
   }
  },
  {
   "cell_type": "code",
   "execution_count": 46,
   "outputs": [],
   "source": [
    "from random import randint\n",
    "\n",
    "\n",
    "class SimplePopulation(Population):\n",
    "\n",
    "    def _get_population(self, individuals: []):\n",
    "        return MockPopulation(individuals, self.fit_function)\n",
    "\n",
    "    def cross_individual(self, individual):\n",
    "        return [\n",
    "            other[::2] + individual[1::2]\n",
    "            for other in self.population\n",
    "        ]\n",
    "\n",
    "    def mutate_individual(self, individual):\n",
    "        if randint(1, 3) == 2:\n",
    "            return individual[::2] + individual[1::2]\n",
    "        return individual\n"
   ],
   "metadata": {
    "collapsed": false,
    "pycharm": {
     "name": "#%%\n"
    }
   }
  },
  {
   "cell_type": "code",
   "execution_count": 44,
   "outputs": [],
   "source": [
    "\n",
    "class Genetic:\n",
    "    def __init__(self, population: Population):\n",
    "        self.population_size = population.size()\n",
    "        self.population = population\n",
    "\n",
    "    def next_population(self) -> Population:\n",
    "        self.population.crossing()\n",
    "        self.population.mutating()\n",
    "        self.population = self.population.selection(self.population_size)\n",
    "        return self.population"
   ],
   "metadata": {
    "collapsed": false,
    "pycharm": {
     "name": "#%%\n"
    }
   }
  },
  {
   "cell_type": "code",
   "execution_count": 4,
   "outputs": [],
   "source": [
    "from word2vec_models import LibrusecModel\n",
    "from generators import Word2VecGenerator\n",
    "\n",
    "base_context = [word for word in 'любовь боль страдания'.split(' ')]\n",
    "embedding = LibrusecModel()\n",
    "generator = Word2VecGenerator(embedding, base_context)"
   ],
   "metadata": {
    "collapsed": false,
    "pycharm": {
     "name": "#%%\n"
    }
   }
  },
  {
   "cell_type": "code",
   "execution_count": 38,
   "outputs": [],
   "source": [
    "adam = generator.generate()\n",
    "eve = generator.generate()"
   ],
   "metadata": {
    "collapsed": false,
    "pycharm": {
     "name": "#%%\n"
    }
   }
  },
  {
   "cell_type": "code",
   "execution_count": 6,
   "outputs": [],
   "source": [
    "from meaning_classifier import MeaningClassifierCNNNavec\n",
    "\n",
    "classifier = MeaningClassifierCNNNavec()\n"
   ],
   "metadata": {
    "collapsed": false,
    "pycharm": {
     "name": "#%%\n"
    }
   }
  },
  {
   "cell_type": "code",
   "execution_count": 47,
   "outputs": [
    {
     "name": "stdout",
     "output_type": "stream",
     "text": [
      "Первое поколение\n",
      "Индивид 0\n",
      "страх холод боль горькая стыд\n",
      "боль гнев болью грусть ярость стыд\n",
      "боль печаль губах гнев злость стыд\n",
      "болью боль печаль злоба стыд\n",
      "\n",
      "Индивид 1\n",
      "страх стыд боль некоторую\n",
      "страх радость нежность страшную\n",
      "стыд обрел некоторую\n",
      "стыд ярость жалость прежнюю\n",
      "\n",
      "Второе поколение\n",
      "Индивид 0\n",
      "страх холод боль горькая стыд\n",
      "боль печаль губах гнев злость стыд\n",
      "боль гнев болью грусть ярость стыд\n",
      "болью боль печаль злоба стыд\n",
      "\n",
      "Индивид 1\n",
      "страх стыд боль некоторую\n",
      "стыд обрел некоторую\n",
      "боль гнев болью грусть ярость стыд\n",
      "болью боль печаль злоба стыд\n",
      "\n",
      "Индивид 2\n",
      "страх холод боль горькая стыд\n",
      "боль печаль губах гнев злость стыд\n",
      "страх радость нежность страшную\n",
      "стыд ярость жалость прежнюю\n",
      "\n",
      "Индивид 3\n",
      "страх стыд боль некоторую\n",
      "стыд обрел некоторую\n",
      "страх радость нежность страшную\n",
      "стыд ярость жалость прежнюю\n",
      "\n"
     ]
    }
   ],
   "source": [
    "population = SimplePopulation([adam, eve], classifier.classify_paragraph)\n",
    "print('Первое поколение')\n",
    "population.print_3d_population()\n",
    "population.crossing()\n",
    "print('Второе поколение')\n",
    "population.print_3d_population()"
   ],
   "metadata": {
    "collapsed": false,
    "pycharm": {
     "name": "#%%\n"
    }
   }
  },
  {
   "cell_type": "code",
   "execution_count": 48,
   "outputs": [],
   "source": [
    "genetic = Genetic(population)"
   ],
   "metadata": {
    "collapsed": false,
    "pycharm": {
     "name": "#%%\n"
    }
   }
  },
  {
   "cell_type": "code",
   "execution_count": 49,
   "outputs": [
    {
     "name": "stdout",
     "output_type": "stream",
     "text": [
      "Индивид 0\n",
      "страх холод боль горькая стыд\n",
      "страх радость нежность страшную\n",
      "стыд обрел некоторую\n",
      "болью боль печаль злоба стыд\n",
      "\n",
      "Индивид 1\n",
      "страх стыд боль некоторую\n",
      "страх радость нежность страшную\n",
      "стыд обрел некоторую\n",
      "болью боль печаль злоба стыд\n",
      "\n",
      "Индивид 2\n",
      "страх холод боль горькая стыд\n",
      "страх радость нежность страшную\n",
      "боль печаль губах гнев злость стыд\n",
      "болью боль печаль злоба стыд\n",
      "\n",
      "Индивид 3\n",
      "страх стыд боль некоторую\n",
      "страх радость нежность страшную\n",
      "боль печаль губах гнев злость стыд\n",
      "болью боль печаль злоба стыд\n",
      "\n"
     ]
    }
   ],
   "source": [
    "genetic.next_population().print_3d_population()"
   ],
   "metadata": {
    "collapsed": false,
    "pycharm": {
     "name": "#%%\n"
    }
   }
  },
  {
   "cell_type": "code",
   "execution_count": null,
   "outputs": [],
   "source": [],
   "metadata": {
    "collapsed": false,
    "pycharm": {
     "name": "#%%\n"
    }
   }
  },
  {
   "cell_type": "code",
   "execution_count": null,
   "outputs": [],
   "source": [],
   "metadata": {
    "collapsed": false,
    "pycharm": {
     "name": "#%%\n"
    }
   }
  }
 ],
 "metadata": {
  "kernelspec": {
   "display_name": "Python 3",
   "language": "python",
   "name": "python3"
  },
  "language_info": {
   "codemirror_mode": {
    "name": "ipython",
    "version": 2
   },
   "file_extension": ".py",
   "mimetype": "text/x-python",
   "name": "python",
   "nbconvert_exporter": "python",
   "pygments_lexer": "ipython2",
   "version": "2.7.6"
  }
 },
 "nbformat": 4,
 "nbformat_minor": 0
}