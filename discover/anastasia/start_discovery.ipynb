{
 "cells": [
  {
   "cell_type": "code",
   "execution_count": 1,
   "metadata": {
    "collapsed": true
   },
   "outputs": [],
   "source": [
    "from random import randint\n",
    "from datetime import date\n",
    "\n",
    "import numpy as np\n",
    "\n",
    "BASE_YEAR = 2022\n",
    "\n",
    "\n",
    "class DataGenerator:\n",
    "    base_storage = [50, 35, 82]\n",
    "    base_delta = [(2, 6), (13, 25), (0, 8)]\n",
    "\n",
    "    base_by = [(50, 100), (70, 80), (30, 45)]\n",
    "    by_order = [30, 10, 15]\n",
    "\n",
    "    special_delta_range = {\n",
    "        (date(BASE_YEAR, 10, 1), date(BASE_YEAR, 11, 1)): [(0, 1), (28, 64), (0, 1)],\n",
    "        (date(BASE_YEAR, 8, 1), date(BASE_YEAR, 9, 1)): [(28, 64), (0, 1), (0, 1)],\n",
    "        (date(BASE_YEAR, 1, 1), date(BASE_YEAR, 3, 1)): [(0, 1), (0, 1), (28, 64)]\n",
    "    }\n",
    "\n",
    "    special_by_range = {\n",
    "        (date(BASE_YEAR, 10, 1), date(BASE_YEAR, 11, 1)): [(0, 1), (28, 64), (0, 1)],\n",
    "        (date(BASE_YEAR, 8, 1), date(BASE_YEAR, 9, 1)): [(28, 64), (0, 1), (0, 1)],\n",
    "        (date(BASE_YEAR, 1, 1), date(BASE_YEAR, 3, 1)): [(0, 1), (0, 1), (28, 64)]\n",
    "    }\n",
    "\n",
    "    def __init__(self):\n",
    "        self.storage = self.base_storage.copy()\n",
    "\n",
    "    def generate(self, month: int, day: int) -> ([int], [int]):\n",
    "        generate_date = date(BASE_YEAR, month, day)\n",
    "\n",
    "        delta = self.base_delta\n",
    "        for (start, stop), special_delta in self.special_delta_range.items():\n",
    "            if start <= generate_date <= stop:\n",
    "                delta = special_delta\n",
    "\n",
    "        new_storage = [\n",
    "            self.storage[index] - randint(start, stop)\n",
    "            for index, (start, stop) in enumerate(delta)\n",
    "        ]\n",
    "\n",
    "        by = self.base_by\n",
    "        for (start, stop), special_by in self.special_by_range.items():\n",
    "            if start <= generate_date <= stop:\n",
    "                by = special_by\n",
    "\n",
    "        current_by = [\n",
    "            randint(start, stop)\n",
    "            for start, stop in by\n",
    "        ]\n",
    "\n",
    "        self.storage = [\n",
    "            product + current_by[index] if product < self.by_order[index] else product\n",
    "            for index, product in enumerate(self.storage)\n",
    "        ]\n",
    "\n",
    "        return new_storage, [\n",
    "            product - new_storage[index]\n",
    "            for index, product in enumerate(self.storage)\n",
    "        ]\n",
    "\n",
    "\n",
    "\n"
   ]
  },
  {
   "cell_type": "code",
   "execution_count": 2,
   "outputs": [],
   "source": [
    "from datetime import timedelta\n",
    "\n",
    "generator = DataGenerator()\n",
    "\n",
    "\n",
    "def generate_for_year() -> []:\n",
    "    data = []\n",
    "    current_date = date(2022, 1, 1)\n",
    "    while current_date < date(2023, 1, 1):\n",
    "        month = current_date.month\n",
    "        day = current_date.day\n",
    "        storage, by = generator.generate(month, day)\n",
    "        data.append(\n",
    "            (([month, day] + storage), by)\n",
    "        )\n",
    "\n",
    "        current_date += timedelta(days=1)\n",
    "\n",
    "    return data\n"
   ],
   "metadata": {
    "collapsed": false
   }
  },
  {
   "cell_type": "code",
   "execution_count": 3,
   "outputs": [],
   "source": [
    "data = []\n",
    "for _ in range(100):\n",
    "    data += generate_for_year()"
   ],
   "metadata": {
    "collapsed": false
   }
  },
  {
   "cell_type": "code",
   "execution_count": 50,
   "outputs": [],
   "source": [
    "valid_border = int(len(data) * 9 / 10)\n",
    "train = data[:valid_border]\n",
    "validation = data[valid_border:]\n"
   ],
   "metadata": {
    "collapsed": false
   }
  },
  {
   "cell_type": "code",
   "execution_count": 51,
   "outputs": [],
   "source": [
    "import numpy as np\n",
    "\n",
    "\n",
    "def prepare_data_to_np(data):\n",
    "    return [\n",
    "        (np.array(in_data), np.array(out_data))\n",
    "        for in_data, out_data in data\n",
    "    ]\n",
    "\n",
    "\n",
    "train = prepare_data_to_np(train)\n",
    "validation = prepare_data_to_np(validation)\n",
    "\n",
    "\n",
    "def get_x(data):\n",
    "    return np.array([\n",
    "        in_data\n",
    "        for in_data, _ in data\n",
    "    ])\n",
    "\n",
    "\n",
    "def get_y(data):\n",
    "    return np.array([\n",
    "        out_data\n",
    "        for _, out_data in data\n",
    "    ])\n",
    "\n",
    "\n",
    "x_train = get_x(train)\n",
    "y_train = get_y(train)\n",
    "\n",
    "x_validation = get_x(validation)\n",
    "y_validation = get_y(validation)"
   ],
   "metadata": {
    "collapsed": false
   }
  },
  {
   "cell_type": "code",
   "execution_count": 52,
   "outputs": [],
   "source": [
    "def normalize(data):\n",
    "    transpose = list(zip(*data))\n",
    "    maximus = [max(column) for column in transpose]\n",
    "    return [\n",
    "        [item / maximus[index] for index, item in enumerate(row)]\n",
    "        for row in data\n",
    "    ]"
   ],
   "metadata": {
    "collapsed": false
   }
  },
  {
   "cell_type": "code",
   "execution_count": 53,
   "outputs": [],
   "source": [
    "x_train = normalize(x_train)\n",
    "y_train = normalize(y_train)\n",
    "\n",
    "x_validation = normalize(x_validation)\n",
    "y_validation = normalize(y_validation)"
   ],
   "metadata": {
    "collapsed": false
   }
  },
  {
   "cell_type": "code",
   "execution_count": 54,
   "outputs": [],
   "source": [
    "from keras.layers import Dense\n",
    "from keras import Sequential, Input\n",
    "\n",
    "model = Sequential()\n",
    "model.add(Input(5))\n",
    "model.add(Dense(32, activation='elu'))\n",
    "model.add(Dense(16, activation='elu'))\n",
    "model.add(Dense(8, activation='elu'))\n",
    "model.add(Dense(3, activation='sigmoid'))\n",
    "model.compile(loss='binary_crossentropy', metrics=['accuracy'], optimizer='adam')\n"
   ],
   "metadata": {
    "collapsed": false
   }
  },
  {
   "cell_type": "code",
   "execution_count": 55,
   "outputs": [
    {
     "name": "stdout",
     "output_type": "stream",
     "text": [
      "Epoch 1/100\n",
      "33/33 [==============================] - 2s 28ms/step - loss: 0.5879 - accuracy: 0.7742 - val_loss: 0.4981 - val_accuracy: 0.9123\n",
      "Epoch 2/100\n",
      "33/33 [==============================] - 0s 9ms/step - loss: 0.4368 - accuracy: 0.9160 - val_loss: 0.3866 - val_accuracy: 0.9342\n",
      "Epoch 3/100\n",
      "33/33 [==============================] - 0s 9ms/step - loss: 0.3606 - accuracy: 0.9648 - val_loss: 0.3412 - val_accuracy: 0.9942\n",
      "Epoch 4/100\n",
      "33/33 [==============================] - 0s 12ms/step - loss: 0.3297 - accuracy: 0.9993 - val_loss: 0.3230 - val_accuracy: 1.0000\n",
      "Epoch 5/100\n",
      "33/33 [==============================] - 0s 9ms/step - loss: 0.3176 - accuracy: 1.0000 - val_loss: 0.3162 - val_accuracy: 1.0000\n",
      "Epoch 6/100\n",
      "33/33 [==============================] - 0s 13ms/step - loss: 0.3131 - accuracy: 1.0000 - val_loss: 0.3135 - val_accuracy: 1.0000\n",
      "Epoch 7/100\n",
      "33/33 [==============================] - 0s 10ms/step - loss: 0.3111 - accuracy: 1.0000 - val_loss: 0.3120 - val_accuracy: 1.0000\n",
      "Epoch 8/100\n",
      "33/33 [==============================] - 0s 9ms/step - loss: 0.3100 - accuracy: 1.0000 - val_loss: 0.3111 - val_accuracy: 1.0000\n",
      "Epoch 9/100\n",
      "33/33 [==============================] - 0s 12ms/step - loss: 0.3091 - accuracy: 1.0000 - val_loss: 0.3104 - val_accuracy: 1.0000\n",
      "Epoch 10/100\n",
      "33/33 [==============================] - 0s 9ms/step - loss: 0.3085 - accuracy: 1.0000 - val_loss: 0.3098 - val_accuracy: 1.0000\n",
      "Epoch 11/100\n",
      "33/33 [==============================] - 0s 9ms/step - loss: 0.3079 - accuracy: 1.0000 - val_loss: 0.3093 - val_accuracy: 1.0000\n",
      "Epoch 12/100\n",
      "33/33 [==============================] - 0s 8ms/step - loss: 0.3075 - accuracy: 1.0000 - val_loss: 0.3089 - val_accuracy: 1.0000\n",
      "Epoch 13/100\n",
      "33/33 [==============================] - 0s 9ms/step - loss: 0.3071 - accuracy: 1.0000 - val_loss: 0.3085 - val_accuracy: 1.0000\n",
      "Epoch 14/100\n",
      "33/33 [==============================] - 0s 12ms/step - loss: 0.3068 - accuracy: 1.0000 - val_loss: 0.3082 - val_accuracy: 1.0000\n",
      "Epoch 15/100\n",
      "33/33 [==============================] - 0s 8ms/step - loss: 0.3065 - accuracy: 1.0000 - val_loss: 0.3080 - val_accuracy: 1.0000\n",
      "Epoch 16/100\n",
      "33/33 [==============================] - 0s 8ms/step - loss: 0.3063 - accuracy: 1.0000 - val_loss: 0.3077 - val_accuracy: 1.0000\n",
      "Epoch 17/100\n",
      "33/33 [==============================] - 0s 13ms/step - loss: 0.3061 - accuracy: 1.0000 - val_loss: 0.3075 - val_accuracy: 1.0000\n",
      "Epoch 18/100\n",
      "33/33 [==============================] - 0s 8ms/step - loss: 0.3059 - accuracy: 1.0000 - val_loss: 0.3074 - val_accuracy: 1.0000\n",
      "Epoch 19/100\n",
      "33/33 [==============================] - 0s 14ms/step - loss: 0.3057 - accuracy: 1.0000 - val_loss: 0.3072 - val_accuracy: 1.0000\n",
      "Epoch 20/100\n",
      "33/33 [==============================] - 0s 12ms/step - loss: 0.3056 - accuracy: 1.0000 - val_loss: 0.3071 - val_accuracy: 1.0000\n",
      "Epoch 21/100\n",
      "33/33 [==============================] - 0s 14ms/step - loss: 0.3055 - accuracy: 1.0000 - val_loss: 0.3070 - val_accuracy: 1.0000\n",
      "Epoch 22/100\n",
      "33/33 [==============================] - 0s 11ms/step - loss: 0.3053 - accuracy: 1.0000 - val_loss: 0.3069 - val_accuracy: 1.0000\n",
      "Epoch 23/100\n",
      "33/33 [==============================] - 1s 15ms/step - loss: 0.3052 - accuracy: 1.0000 - val_loss: 0.3068 - val_accuracy: 1.0000\n",
      "Epoch 24/100\n",
      "33/33 [==============================] - 0s 11ms/step - loss: 0.3052 - accuracy: 1.0000 - val_loss: 0.3067 - val_accuracy: 1.0000\n",
      "Epoch 25/100\n",
      "33/33 [==============================] - 0s 10ms/step - loss: 0.3051 - accuracy: 1.0000 - val_loss: 0.3066 - val_accuracy: 1.0000\n",
      "Epoch 26/100\n",
      "33/33 [==============================] - 0s 11ms/step - loss: 0.3050 - accuracy: 1.0000 - val_loss: 0.3065 - val_accuracy: 1.0000\n",
      "Epoch 27/100\n",
      "33/33 [==============================] - 0s 10ms/step - loss: 0.3049 - accuracy: 1.0000 - val_loss: 0.3065 - val_accuracy: 1.0000\n",
      "Epoch 28/100\n",
      "33/33 [==============================] - 0s 14ms/step - loss: 0.3049 - accuracy: 1.0000 - val_loss: 0.3064 - val_accuracy: 1.0000\n",
      "Epoch 29/100\n",
      "33/33 [==============================] - 0s 9ms/step - loss: 0.3048 - accuracy: 1.0000 - val_loss: 0.3064 - val_accuracy: 1.0000\n",
      "Epoch 30/100\n",
      "33/33 [==============================] - 0s 15ms/step - loss: 0.3048 - accuracy: 1.0000 - val_loss: 0.3063 - val_accuracy: 1.0000\n",
      "Epoch 31/100\n",
      "33/33 [==============================] - 0s 11ms/step - loss: 0.3047 - accuracy: 1.0000 - val_loss: 0.3063 - val_accuracy: 1.0000\n",
      "Epoch 32/100\n",
      "33/33 [==============================] - 0s 15ms/step - loss: 0.3047 - accuracy: 1.0000 - val_loss: 0.3062 - val_accuracy: 1.0000\n",
      "Epoch 33/100\n",
      "33/33 [==============================] - 0s 11ms/step - loss: 0.3046 - accuracy: 1.0000 - val_loss: 0.3062 - val_accuracy: 1.0000\n",
      "Epoch 34/100\n",
      "33/33 [==============================] - 1s 16ms/step - loss: 0.3046 - accuracy: 1.0000 - val_loss: 0.3062 - val_accuracy: 1.0000\n",
      "Epoch 35/100\n",
      "33/33 [==============================] - 0s 12ms/step - loss: 0.3046 - accuracy: 1.0000 - val_loss: 0.3061 - val_accuracy: 1.0000\n",
      "Epoch 36/100\n",
      "33/33 [==============================] - 0s 14ms/step - loss: 0.3045 - accuracy: 1.0000 - val_loss: 0.3061 - val_accuracy: 1.0000\n",
      "Epoch 37/100\n",
      "33/33 [==============================] - 0s 12ms/step - loss: 0.3045 - accuracy: 1.0000 - val_loss: 0.3060 - val_accuracy: 1.0000\n",
      "Epoch 38/100\n",
      "33/33 [==============================] - 0s 14ms/step - loss: 0.3045 - accuracy: 1.0000 - val_loss: 0.3060 - val_accuracy: 1.0000\n",
      "Epoch 39/100\n",
      "33/33 [==============================] - 0s 11ms/step - loss: 0.3044 - accuracy: 1.0000 - val_loss: 0.3060 - val_accuracy: 1.0000\n",
      "Epoch 40/100\n",
      "33/33 [==============================] - 0s 10ms/step - loss: 0.3044 - accuracy: 1.0000 - val_loss: 0.3060 - val_accuracy: 1.0000\n",
      "Epoch 41/100\n",
      "33/33 [==============================] - 0s 11ms/step - loss: 0.3044 - accuracy: 1.0000 - val_loss: 0.3059 - val_accuracy: 1.0000\n",
      "Epoch 42/100\n",
      "33/33 [==============================] - 1s 14ms/step - loss: 0.3044 - accuracy: 1.0000 - val_loss: 0.3059 - val_accuracy: 1.0000\n",
      "Epoch 43/100\n",
      "33/33 [==============================] - 0s 10ms/step - loss: 0.3044 - accuracy: 1.0000 - val_loss: 0.3059 - val_accuracy: 1.0000\n",
      "Epoch 44/100\n",
      "33/33 [==============================] - 0s 11ms/step - loss: 0.3043 - accuracy: 1.0000 - val_loss: 0.3059 - val_accuracy: 1.0000\n",
      "Epoch 45/100\n",
      "33/33 [==============================] - 0s 9ms/step - loss: 0.3043 - accuracy: 1.0000 - val_loss: 0.3059 - val_accuracy: 1.0000\n",
      "Epoch 46/100\n",
      "33/33 [==============================] - 0s 12ms/step - loss: 0.3043 - accuracy: 1.0000 - val_loss: 0.3058 - val_accuracy: 1.0000\n",
      "Epoch 47/100\n",
      "33/33 [==============================] - 0s 14ms/step - loss: 0.3043 - accuracy: 1.0000 - val_loss: 0.3058 - val_accuracy: 1.0000\n",
      "Epoch 48/100\n",
      "33/33 [==============================] - 0s 11ms/step - loss: 0.3043 - accuracy: 1.0000 - val_loss: 0.3058 - val_accuracy: 1.0000\n",
      "Epoch 49/100\n",
      "33/33 [==============================] - 0s 15ms/step - loss: 0.3042 - accuracy: 1.0000 - val_loss: 0.3058 - val_accuracy: 1.0000\n",
      "Epoch 50/100\n",
      "33/33 [==============================] - 0s 9ms/step - loss: 0.3042 - accuracy: 1.0000 - val_loss: 0.3058 - val_accuracy: 1.0000\n",
      "Epoch 51/100\n",
      "33/33 [==============================] - 0s 14ms/step - loss: 0.3042 - accuracy: 1.0000 - val_loss: 0.3058 - val_accuracy: 1.0000\n",
      "Epoch 52/100\n",
      "33/33 [==============================] - 0s 11ms/step - loss: 0.3042 - accuracy: 1.0000 - val_loss: 0.3057 - val_accuracy: 1.0000\n",
      "Epoch 53/100\n",
      "33/33 [==============================] - 0s 14ms/step - loss: 0.3042 - accuracy: 1.0000 - val_loss: 0.3057 - val_accuracy: 1.0000\n",
      "Epoch 54/100\n",
      "33/33 [==============================] - 0s 11ms/step - loss: 0.3042 - accuracy: 1.0000 - val_loss: 0.3057 - val_accuracy: 1.0000\n",
      "Epoch 55/100\n",
      "33/33 [==============================] - 0s 9ms/step - loss: 0.3041 - accuracy: 1.0000 - val_loss: 0.3057 - val_accuracy: 1.0000\n",
      "Epoch 56/100\n",
      "33/33 [==============================] - 0s 11ms/step - loss: 0.3041 - accuracy: 1.0000 - val_loss: 0.3057 - val_accuracy: 1.0000\n",
      "Epoch 57/100\n",
      "33/33 [==============================] - 0s 11ms/step - loss: 0.3041 - accuracy: 1.0000 - val_loss: 0.3056 - val_accuracy: 1.0000\n",
      "Epoch 58/100\n",
      "33/33 [==============================] - 0s 15ms/step - loss: 0.3041 - accuracy: 1.0000 - val_loss: 0.3056 - val_accuracy: 1.0000\n",
      "Epoch 59/100\n",
      "33/33 [==============================] - 0s 10ms/step - loss: 0.3041 - accuracy: 1.0000 - val_loss: 0.3056 - val_accuracy: 1.0000\n",
      "Epoch 60/100\n",
      "33/33 [==============================] - 0s 15ms/step - loss: 0.3041 - accuracy: 1.0000 - val_loss: 0.3056 - val_accuracy: 1.0000\n",
      "Epoch 61/100\n",
      "33/33 [==============================] - 0s 11ms/step - loss: 0.3040 - accuracy: 1.0000 - val_loss: 0.3056 - val_accuracy: 1.0000\n",
      "Epoch 62/100\n",
      "33/33 [==============================] - 0s 14ms/step - loss: 0.3040 - accuracy: 1.0000 - val_loss: 0.3056 - val_accuracy: 1.0000\n",
      "Epoch 63/100\n",
      "33/33 [==============================] - 0s 11ms/step - loss: 0.3040 - accuracy: 1.0000 - val_loss: 0.3055 - val_accuracy: 1.0000\n",
      "Epoch 64/100\n",
      "33/33 [==============================] - 0s 13ms/step - loss: 0.3040 - accuracy: 1.0000 - val_loss: 0.3055 - val_accuracy: 1.0000\n",
      "Epoch 65/100\n",
      "33/33 [==============================] - 0s 11ms/step - loss: 0.3040 - accuracy: 1.0000 - val_loss: 0.3055 - val_accuracy: 1.0000\n",
      "Epoch 66/100\n",
      "33/33 [==============================] - 0s 14ms/step - loss: 0.3039 - accuracy: 1.0000 - val_loss: 0.3055 - val_accuracy: 1.0000\n",
      "Epoch 67/100\n",
      "33/33 [==============================] - 0s 10ms/step - loss: 0.3039 - accuracy: 1.0000 - val_loss: 0.3055 - val_accuracy: 1.0000\n",
      "Epoch 68/100\n",
      "33/33 [==============================] - 0s 11ms/step - loss: 0.3039 - accuracy: 1.0000 - val_loss: 0.3054 - val_accuracy: 1.0000\n",
      "Epoch 69/100\n",
      "33/33 [==============================] - 0s 10ms/step - loss: 0.3039 - accuracy: 1.0000 - val_loss: 0.3054 - val_accuracy: 1.0000\n",
      "Epoch 70/100\n",
      "33/33 [==============================] - 0s 11ms/step - loss: 0.3039 - accuracy: 1.0000 - val_loss: 0.3054 - val_accuracy: 1.0000\n",
      "Epoch 71/100\n",
      "33/33 [==============================] - 0s 12ms/step - loss: 0.3038 - accuracy: 1.0000 - val_loss: 0.3053 - val_accuracy: 1.0000\n",
      "Epoch 72/100\n",
      "33/33 [==============================] - 0s 9ms/step - loss: 0.3038 - accuracy: 1.0000 - val_loss: 0.3053 - val_accuracy: 1.0000\n",
      "Epoch 73/100\n",
      "33/33 [==============================] - 0s 15ms/step - loss: 0.3038 - accuracy: 1.0000 - val_loss: 0.3053 - val_accuracy: 1.0000\n",
      "Epoch 74/100\n",
      "33/33 [==============================] - 0s 10ms/step - loss: 0.3037 - accuracy: 1.0000 - val_loss: 0.3052 - val_accuracy: 1.0000\n",
      "Epoch 75/100\n",
      "33/33 [==============================] - 0s 9ms/step - loss: 0.3037 - accuracy: 1.0000 - val_loss: 0.3052 - val_accuracy: 1.0000\n",
      "Epoch 76/100\n",
      "33/33 [==============================] - 0s 10ms/step - loss: 0.3037 - accuracy: 1.0000 - val_loss: 0.3052 - val_accuracy: 1.0000\n",
      "Epoch 77/100\n",
      "33/33 [==============================] - 0s 10ms/step - loss: 0.3036 - accuracy: 1.0000 - val_loss: 0.3051 - val_accuracy: 1.0000\n",
      "Epoch 78/100\n",
      "33/33 [==============================] - 0s 15ms/step - loss: 0.3036 - accuracy: 1.0000 - val_loss: 0.3051 - val_accuracy: 1.0000\n",
      "Epoch 79/100\n",
      "33/33 [==============================] - 0s 9ms/step - loss: 0.3035 - accuracy: 1.0000 - val_loss: 0.3050 - val_accuracy: 1.0000\n",
      "Epoch 80/100\n",
      "33/33 [==============================] - 0s 14ms/step - loss: 0.3035 - accuracy: 1.0000 - val_loss: 0.3050 - val_accuracy: 1.0000\n",
      "Epoch 81/100\n",
      "33/33 [==============================] - 0s 11ms/step - loss: 0.3034 - accuracy: 1.0000 - val_loss: 0.3049 - val_accuracy: 1.0000\n",
      "Epoch 82/100\n",
      "33/33 [==============================] - 0s 9ms/step - loss: 0.3034 - accuracy: 1.0000 - val_loss: 0.3049 - val_accuracy: 1.0000\n",
      "Epoch 83/100\n",
      "33/33 [==============================] - 0s 10ms/step - loss: 0.3033 - accuracy: 1.0000 - val_loss: 0.3048 - val_accuracy: 1.0000\n",
      "Epoch 84/100\n",
      "33/33 [==============================] - 0s 11ms/step - loss: 0.3032 - accuracy: 1.0000 - val_loss: 0.3047 - val_accuracy: 1.0000\n",
      "Epoch 85/100\n",
      "33/33 [==============================] - 0s 15ms/step - loss: 0.3032 - accuracy: 1.0000 - val_loss: 0.3047 - val_accuracy: 1.0000\n",
      "Epoch 86/100\n",
      "33/33 [==============================] - 0s 13ms/step - loss: 0.3031 - accuracy: 1.0000 - val_loss: 0.3046 - val_accuracy: 1.0000\n",
      "Epoch 87/100\n",
      "33/33 [==============================] - 1s 25ms/step - loss: 0.3031 - accuracy: 1.0000 - val_loss: 0.3045 - val_accuracy: 1.0000\n",
      "Epoch 88/100\n",
      "33/33 [==============================] - 1s 23ms/step - loss: 0.3030 - accuracy: 1.0000 - val_loss: 0.3045 - val_accuracy: 1.0000\n",
      "Epoch 89/100\n",
      "33/33 [==============================] - 1s 20ms/step - loss: 0.3029 - accuracy: 1.0000 - val_loss: 0.3044 - val_accuracy: 1.0000\n",
      "Epoch 90/100\n",
      "33/33 [==============================] - 1s 23ms/step - loss: 0.3029 - accuracy: 1.0000 - val_loss: 0.3044 - val_accuracy: 1.0000\n",
      "Epoch 91/100\n",
      "33/33 [==============================] - 0s 8ms/step - loss: 0.3028 - accuracy: 1.0000 - val_loss: 0.3043 - val_accuracy: 1.0000\n",
      "Epoch 92/100\n",
      "33/33 [==============================] - 0s 9ms/step - loss: 0.3028 - accuracy: 1.0000 - val_loss: 0.3042 - val_accuracy: 1.0000\n",
      "Epoch 93/100\n",
      "33/33 [==============================] - 0s 9ms/step - loss: 0.3027 - accuracy: 1.0000 - val_loss: 0.3042 - val_accuracy: 1.0000\n",
      "Epoch 94/100\n",
      "33/33 [==============================] - 0s 9ms/step - loss: 0.3027 - accuracy: 1.0000 - val_loss: 0.3042 - val_accuracy: 1.0000\n",
      "Epoch 95/100\n",
      "33/33 [==============================] - 0s 12ms/step - loss: 0.3026 - accuracy: 1.0000 - val_loss: 0.3041 - val_accuracy: 1.0000\n",
      "Epoch 96/100\n",
      "33/33 [==============================] - 0s 9ms/step - loss: 0.3026 - accuracy: 1.0000 - val_loss: 0.3040 - val_accuracy: 1.0000\n",
      "Epoch 97/100\n",
      "33/33 [==============================] - 0s 9ms/step - loss: 0.3025 - accuracy: 1.0000 - val_loss: 0.3040 - val_accuracy: 1.0000\n",
      "Epoch 98/100\n",
      "33/33 [==============================] - 0s 12ms/step - loss: 0.3025 - accuracy: 1.0000 - val_loss: 0.3039 - val_accuracy: 1.0000\n",
      "Epoch 99/100\n",
      "33/33 [==============================] - 0s 8ms/step - loss: 0.3024 - accuracy: 1.0000 - val_loss: 0.3039 - val_accuracy: 1.0000\n",
      "Epoch 100/100\n",
      "33/33 [==============================] - 0s 8ms/step - loss: 0.3023 - accuracy: 1.0000 - val_loss: 0.3038 - val_accuracy: 1.0000\n"
     ]
    }
   ],
   "source": [
    "history = model.fit(x_train, y_train,\n",
    "                    batch_size=1000,\n",
    "                    epochs=100,\n",
    "                    verbose=1,\n",
    "                    validation_data=(x_validation, y_validation))"
   ],
   "metadata": {
    "collapsed": false
   }
  },
  {
   "cell_type": "code",
   "execution_count": 56,
   "outputs": [
    {
     "data": {
      "text/plain": "<Figure size 640x480 with 1 Axes>",
      "image/png": "[encoded data removed]"
     },
     "metadata": {},
     "output_type": "display_data"
    },
    {
     "data": {
      "text/plain": "<Figure size 640x480 with 1 Axes>",
      "image/png": "[encoded data removed]"
     },
     "metadata": {},
     "output_type": "display_data"
    }
   ],
   "source": [
    "import matplotlib.pyplot as plt\n",
    "\n",
    "plt.plot(history.history['accuracy'])\n",
    "plt.plot(history.history['val_accuracy'])\n",
    "plt.title('Точность модели')\n",
    "plt.ylabel('точность')\n",
    "plt.xlabel('эпохи')\n",
    "plt.legend(['обучение', 'валидация'], loc='upper left')\n",
    "plt.show()\n",
    "\n",
    "plt.plot(history.history['loss'])\n",
    "plt.plot(history.history['val_loss'])\n",
    "plt.title('Ошибки модели')\n",
    "plt.ylabel('ошибки')\n",
    "plt.xlabel('эпохи')\n",
    "plt.legend(['обучение', 'валидация'], loc='upper left')\n",
    "plt.show()"
   ],
   "metadata": {
    "collapsed": false
   }
  },
  {
   "cell_type": "code",
   "execution_count": 60,
   "outputs": [
    {
     "name": "stdout",
     "output_type": "stream",
     "text": [
      "[50, 3, 81]\n",
      "[0, 32, 1]\n",
      "1/1 [==============================] - 0s 79ms/step\n",
      "[[3.2310454e-30 1.0000000e+00 0.0000000e+00]]\n"
     ]
    }
   ],
   "source": [
    "month = 10\n",
    "day = 1\n",
    "test_data, test_result = generator.generate(10, 1)\n",
    "print(test_data)\n",
    "print(test_result)\n",
    "\n",
    "predict = model.predict(\n",
    "    np.array([\n",
    "        np.array([month, day] + test_data)\n",
    "    ])\n",
    ")\n",
    "print(predict)"
   ],
   "metadata": {
    "collapsed": false
   }
  },
  {
   "cell_type": "code",
   "execution_count": 30,
   "outputs": [],
   "source": [
    "\n",
    "class BuyFrontierPredict:\n",
    "    def __init__(self, base_year: int):\n",
    "        self.base_year = base_year\n",
    "        self.date_predict = {}\n",
    "        self.year_range = self.get_year_range(base_year)\n",
    "\n",
    "    @staticmethod\n",
    "    def get_year_range(base_year):\n",
    "        date_current = date(base_year, 1, 1)\n",
    "        date_end = date(base_year + 1, 1, 1)\n",
    "\n",
    "        year_range = []\n",
    "        while date_current < date_end:\n",
    "            year_range.append(date_current)\n",
    "            date_current += timedelta(days=1)\n",
    "\n",
    "        return year_range\n",
    "\n",
    "    def get_date(self, month, day) -> date:\n",
    "        return date(self.base_year, month, day)\n",
    "\n",
    "    def fit(self, data: [(list, list)]):\n",
    "        for index, ((month, day, *storage), buy_info) in enumerate(data):\n",
    "            (prev_month, prev_day, *prev_storage) = data[index - 1][0]\n",
    "\n",
    "            buy_frontiers = [\n",
    "                (prev_storage[index] + storage[index]) / 2\n",
    "                if (buy != 0) and (prev_storage[index] > storage[index])\n",
    "                else 0\n",
    "                for index, buy in enumerate(buy_info)\n",
    "            ]\n",
    "\n",
    "            current_date = self.get_date(month, day)\n",
    "            if current_date in self.date_predict.keys():\n",
    "                predict = self.date_predict[current_date]\n",
    "                for index, buy_frontier in enumerate(buy_frontiers):\n",
    "                    if buy_frontier:\n",
    "                        if predict[index]:\n",
    "                            predict[index] = (predict[index] + buy_frontier ) / 2\n",
    "                        else:\n",
    "                            predict[index] = buy_frontier\n",
    "            else:\n",
    "                self.date_predict[current_date] = buy_frontiers\n",
    "\n",
    "    def periodic_average_frontier(self, period_day: int):\n",
    "        period_counter = 0\n",
    "        periodic_average = []\n",
    "        for current_date in self.year_range:\n",
    "            current_data = self.date_predict.get(current_date)\n",
    "            if not period_counter:\n",
    "                periodic_average.append({\n",
    "                    'date': current_date,\n",
    "                    'data': current_data\n",
    "                })\n",
    "            else:\n",
    "                last_data = periodic_average[-1]['data']\n",
    "                periodic_average[-1]['data'] = [\n",
    "                    position + current_data[index]\n",
    "                    for index, position in enumerate(last_data)\n",
    "                ]\n",
    "                if period_counter == period_day:\n",
    "                    periodic_average[-1]['data'] = [\n",
    "                        position / period_day\n",
    "                        for position in periodic_average[-1]['data']\n",
    "                    ]\n",
    "                    period_counter = 0\n",
    "                    periodic_average.append({\n",
    "                    'date': current_date,\n",
    "                    'data': current_data\n",
    "                })\n",
    "\n",
    "            period_counter += 1\n",
    "        periodic_average[-1]['data'] = [\n",
    "                        position / period_day\n",
    "                        for position in periodic_average[-1]['data']\n",
    "                    ]\n",
    "        return periodic_average\n",
    "\n"
   ],
   "metadata": {
    "collapsed": false
   }
  },
  {
   "cell_type": "code",
   "execution_count": 31,
   "outputs": [],
   "source": [
    "predictor = BuyFrontierPredict(2022)"
   ],
   "metadata": {
    "collapsed": false
   }
  },
  {
   "cell_type": "code",
   "execution_count": 32,
   "outputs": [],
   "source": [
    "predictor.fit(data)"
   ],
   "metadata": {
    "collapsed": false
   }
  },
  {
   "cell_type": "code",
   "execution_count": 41,
   "outputs": [],
   "source": [
    "periods_data = predictor.periodic_average_frontier(10)"
   ],
   "metadata": {
    "collapsed": false
   }
  },
  {
   "cell_type": "code",
   "execution_count": 42,
   "outputs": [
    {
     "name": "stdout",
     "output_type": "stream",
     "text": [
      "[(datetime.date(2022, 1, 1), [49.5, 34.5, 43.15325626779041]), (datetime.date(2022, 1, 11), [54.45, 37.95, 41.098018517141796]), (datetime.date(2022, 1, 21), [54.45, 37.95, 40.23073882177006]), (datetime.date(2022, 1, 31), [54.45, 37.95, 39.979015503773475]), (datetime.date(2022, 2, 10), [54.45, 37.95, 38.16003590356719]), (datetime.date(2022, 2, 20), [54.27449958638065, 37.19836602328738, 36.377573810659555]), (datetime.date(2022, 3, 2), [50.931484291987964, 18.231622266620825, 78.16222530175288]), (datetime.date(2022, 3, 12), [50.61757092673953, 17.329209325004935, 85.94893061614647]), (datetime.date(2022, 3, 22), [50.62658569071918, 17.70660358333555, 85.76124695603232]), (datetime.date(2022, 4, 1), [50.477902114130345, 17.52903135157087, 85.16049316120822]), (datetime.date(2022, 4, 11), [50.68629473827635, 17.26557135375149, 85.6834312052492]), (datetime.date(2022, 4, 21), [50.734591603732625, 17.38641232236558, 85.99042802665515]), (datetime.date(2022, 5, 1), [50.60556531395659, 17.02238278136821, 86.12676754811783]), (datetime.date(2022, 5, 11), [50.597238932442295, 16.43360670915589, 85.9106082945592]), (datetime.date(2022, 5, 21), [50.82483234873569, 18.026316944791052, 86.07645842098914]), (datetime.date(2022, 5, 31), [50.708725841242185, 17.151089279490147, 85.36543569220814]), (datetime.date(2022, 6, 10), [50.7553901102939, 17.461152592404098, 85.52107397507875]), (datetime.date(2022, 6, 20), [50.63482566350065, 18.49325467885357, 85.72200561959865]), (datetime.date(2022, 6, 30), [50.70639821461403, 17.276888619790288, 86.58206049468194]), (datetime.date(2022, 7, 10), [50.569629971531214, 17.574720514382438, 86.01496787185131]), (datetime.date(2022, 7, 20), [50.5504532384179, 17.321641658737814, 85.91736106032329]), (datetime.date(2022, 7, 30), [12.937354946033517, 31.043958089666443, 89.03806209769515]), (datetime.date(2022, 8, 9), [4.675689341354714, 37.95, 89.65]), (datetime.date(2022, 8, 19), [5.20730059858101, 37.95, 89.65]), (datetime.date(2022, 8, 29), [30.422174004301986, 25.646735908734136, 86.92820324671911]), (datetime.date(2022, 9, 8), [50.48396401315155, 17.641258753397743, 85.50711243843762]), (datetime.date(2022, 9, 18), [50.801964230387235, 17.794361183413777, 86.17194858452892]), (datetime.date(2022, 9, 28), [48.5969936844505, -5.225397759853822, 88.92891539014605]), (datetime.date(2022, 10, 8), [54.45, -12.43616591758356, 89.65]), (datetime.date(2022, 10, 18), [54.45, -12.686782210252067, 89.65]), (datetime.date(2022, 10, 28), [52.582781361497396, 1.859811946636582, 87.32148743320415]), (datetime.date(2022, 11, 7), [50.60462733062995, 17.304165367191093, 85.60682168440556]), (datetime.date(2022, 11, 17), [50.545949936441176, 17.47252995766444, 86.10171122494314]), (datetime.date(2022, 11, 27), [50.48073874036392, 17.816143007324523, 85.99368719491517]), (datetime.date(2022, 12, 7), [50.27308521335301, 18.067523029150312, 85.64105538226103]), (datetime.date(2022, 12, 17), [50.6169448653016, 17.391327645442964, 85.89658092998413]), (datetime.date(2022, 12, 27), [22.864981131687635, 7.616181547709388, 38.82498088457835])]\n"
     ]
    },
    {
     "data": {
      "text/plain": "<Figure size 640x480 with 1 Axes>",
      "image/png": "[encoded data removed]"
     },
     "metadata": {},
     "output_type": "display_data"
    }
   ],
   "source": [
    "import matplotlib.pyplot as plt\n",
    "\n",
    "plot_data = [\n",
    "    (period['date'], period['data'])\n",
    "    for period in periods_data\n",
    "]\n",
    "def get_chart_x():\n",
    "    return [\n",
    "        name\n",
    "        for name, data in plot_data\n",
    "    ]\n",
    "chart_x = get_chart_x()\n",
    "\n",
    "def get_chart_y(position_index: int):\n",
    "    return [\n",
    "        data[position_index]\n",
    "        for name, data in plot_data\n",
    "    ]\n",
    "chart_y1 = get_chart_y(0)\n",
    "chart_y2 = get_chart_y(1)\n",
    "chart_y3 = get_chart_y(2)\n",
    "\n",
    "plt.plot(chart_x, chart_y1)\n",
    "plt.plot(chart_x, chart_y2)\n",
    "plt.plot(chart_x, chart_y3)\n",
    "plt.title('График рубежа закупки от даты')\n",
    "plt.ylabel('Рубеж закупки')\n",
    "plt.xlabel('Дата')\n",
    "plt.legend(['Продукт 1', 'Продукт 2', 'Продукт 3'], loc='upper left')\n",
    "plt.show()"
   ],
   "metadata": {
    "collapsed": false
   }
  },
  {
   "cell_type": "code",
   "execution_count": 60,
   "outputs": [],
   "source": [],
   "metadata": {
    "collapsed": false
   }
  },
  {
   "cell_type": "code",
   "execution_count": null,
   "outputs": [],
   "source": [],
   "metadata": {
    "collapsed": false
   }
  }
 ],
 "metadata": {
  "kernelspec": {
   "display_name": "Python 3",
   "language": "python",
   "name": "python3"
  },
  "language_info": {
   "codemirror_mode": {
    "name": "ipython",
    "version": 2
   },
   "file_extension": ".py",
   "mimetype": "text/x-python",
   "name": "python",
   "nbconvert_exporter": "python",
   "pygments_lexer": "ipython2",
   "version": "2.7.6"
  }
 },
 "nbformat": 4,
 "nbformat_minor": 0
}
