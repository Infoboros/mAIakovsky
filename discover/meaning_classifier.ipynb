{
 "cells": [
  {
   "cell_type": "code",
   "execution_count": 5,
   "outputs": [],
   "source": [
    "from word2vec_models import NavecModel\n",
    "\n",
    "embedding = NavecModel()"
   ],
   "metadata": {
    "collapsed": false,
    "pycharm": {
     "name": "#%%\n"
    }
   }
  },
  {
   "cell_type": "code",
   "execution_count": 6,
   "outputs": [],
   "source": [
    "from word_processing import Word\n",
    "from functools import reduce\n",
    "\n",
    "\n",
    "def word_list_to_vec(word_list: [str]) -> [float]:\n",
    "    return list(\n",
    "        reduce(\n",
    "            lambda result, word: result + list(embedding.word2vec(Word(word))),\n",
    "            word_list,\n",
    "            []\n",
    "        )\n",
    "    )"
   ],
   "metadata": {
    "collapsed": false,
    "pycharm": {
     "name": "#%%\n"
    }
   }
  },
  {
   "cell_type": "code",
   "execution_count": 3,
   "outputs": [],
   "source": [
    "from razdel import sentenize, tokenize\n",
    "from corus import load_librusec\n",
    "\n",
    "\n",
    "class PositiveCorpus:\n",
    "    def __init__(self):\n",
    "        self.window_size = 5\n",
    "        self.records = load_librusec('/Volumes/UNTITLED/librusec_fb2.plain.gz')\n",
    "\n",
    "    @staticmethod\n",
    "    def tokenize_sentence_filter(tokenize_sentence: [str]):\n",
    "        return list(\n",
    "            filter(\n",
    "                lambda x: x not in ',:;()./?!—«»$%@#-+=[]{}',\n",
    "                tokenize_sentence\n",
    "            )\n",
    "        )\n",
    "\n",
    "    def __iter__(self) -> ([str], float):\n",
    "        while record := next(self.records):\n",
    "            text = record.text\n",
    "            for sentence in sentenize(text):\n",
    "                tokenized_sentence = self.tokenize_sentence_filter(\n",
    "                    [token.text.lower() for token in tokenize(sentence.text)]\n",
    "                )\n",
    "                while len(tokenized_sentence) >= self.window_size:\n",
    "                    image = [tokenized_sentence.pop(0) for _ in range(self.window_size)]\n",
    "                    try:\n",
    "                        yield word_list_to_vec(image), 1.0\n",
    "                    except KeyError:\n",
    "                        pass\n",
    "\n",
    "\n",
    "positive_count = 100000\n",
    "positive_corpus = iter(PositiveCorpus())\n",
    "positive_data = [next(positive_corpus) for _ in range(positive_count)]"
   ],
   "metadata": {
    "collapsed": false,
    "pycharm": {
     "name": "#%%\n"
    }
   }
  },
  {
   "cell_type": "code",
   "execution_count": 4,
   "outputs": [
    {
     "name": "stdout",
     "output_type": "stream",
     "text": [
      "500\n",
      "1000\n",
      "1500\n",
      "2000\n",
      "2500\n",
      "3000\n",
      "3500\n",
      "4000\n",
      "4500\n",
      "5000\n",
      "5500\n",
      "6000\n",
      "6500\n",
      "7000\n",
      "7500\n",
      "8000\n",
      "8500\n",
      "9000\n",
      "9500\n",
      "10000\n",
      "10500\n",
      "11000\n",
      "11500\n",
      "12000\n",
      "12500\n",
      "13000\n",
      "13500\n",
      "14000\n",
      "14500\n",
      "15000\n",
      "15500\n",
      "16000\n",
      "16500\n",
      "17000\n",
      "17500\n",
      "18000\n",
      "18500\n",
      "19000\n",
      "19500\n",
      "20000\n",
      "20500\n",
      "21000\n",
      "21500\n",
      "22000\n",
      "22500\n",
      "23000\n",
      "23500\n",
      "24000\n",
      "24500\n",
      "25000\n",
      "25500\n",
      "26000\n",
      "26500\n",
      "27000\n",
      "27500\n",
      "28000\n",
      "28500\n",
      "29000\n",
      "29500\n",
      "30000\n",
      "30500\n",
      "31000\n",
      "31500\n",
      "32000\n",
      "32500\n",
      "33000\n",
      "33500\n",
      "34000\n",
      "34500\n",
      "35000\n",
      "35500\n",
      "36000\n",
      "36500\n",
      "37000\n",
      "37500\n",
      "38000\n",
      "38500\n",
      "39000\n",
      "39500\n",
      "40000\n",
      "40500\n",
      "41000\n",
      "41500\n",
      "42000\n",
      "42500\n",
      "43000\n",
      "43500\n",
      "44000\n",
      "44500\n",
      "45000\n",
      "45500\n",
      "46000\n",
      "46500\n",
      "47000\n",
      "47500\n",
      "48000\n",
      "48500\n",
      "49000\n",
      "49500\n"
     ]
    }
   ],
   "source": [
    "from random import choice\n",
    "\n",
    "\n",
    "class NegativeCorpus:\n",
    "    def __init__(self):\n",
    "        self.window_size = 5\n",
    "        self.predict_batch = 20\n",
    "        # TODO перенести этот гет в метод модели\n",
    "        self.vocab = embedding.model.wv.index_to_key\n",
    "\n",
    "    def __iter__(self) -> ([str], float):\n",
    "        context = []\n",
    "        count = 0\n",
    "        while True:\n",
    "            if len(context) == self.window_size:\n",
    "                yield word_list_to_vec(context), 0.0\n",
    "                context = []\n",
    "                count += 1\n",
    "                if count % 500 == 0:\n",
    "                    print(count)\n",
    "\n",
    "            if not context:\n",
    "                context = [choice(self.vocab)]\n",
    "\n",
    "            # TODO перенести этот гет в метод модели\n",
    "            context.append(choice(embedding.model.wv.most_similar(context, topn=self.predict_batch))[0])\n",
    "\n",
    "\n",
    "negative_count = 50000\n",
    "negative_corpus = iter(NegativeCorpus())\n",
    "negative_data = [next(negative_corpus) for _ in range(negative_count)]"
   ],
   "metadata": {
    "collapsed": false,
    "pycharm": {
     "name": "#%%\n"
    }
   }
  },
  {
   "cell_type": "code",
   "execution_count": 12,
   "outputs": [],
   "source": [
    "import os\n",
    "from settings import DOWNLOADS_PATH\n",
    "\n",
    "with open(os.path.join(DOWNLOADS_PATH, 'positive_example'), 'w') as f:\n",
    "    f.write('\\n'.join(\n",
    "        [\n",
    "            f'{image}|{result}'\n",
    "            for image, result in positive_data\n",
    "        ]\n",
    "    ))"
   ],
   "metadata": {
    "collapsed": false,
    "pycharm": {
     "name": "#%%\n"
    }
   }
  },
  {
   "cell_type": "code",
   "execution_count": 13,
   "outputs": [],
   "source": [
    "import os\n",
    "from settings import DOWNLOADS_PATH\n",
    "\n",
    "with open(os.path.join(DOWNLOADS_PATH, 'negative_example'), 'w') as f:\n",
    "    f.write('\\n'.join(\n",
    "        [\n",
    "            f'{image}|{result}'\n",
    "            for image, result in negative_data\n",
    "        ]\n",
    "    ))"
   ],
   "metadata": {
    "collapsed": false,
    "pycharm": {
     "name": "#%%\n"
    }
   }
  },
  {
   "cell_type": "code",
   "execution_count": 3,
   "outputs": [],
   "source": [
    "def func_chunk(lst, n):\n",
    "    chunked = []\n",
    "    for x in range(0, len(lst), n):\n",
    "        e_c = lst[x : n + x]\n",
    "\n",
    "        if len(e_c) < n:\n",
    "            e_c = e_c + [None for y in range(n - len(e_c))]\n",
    "        chunked.append(np.array(e_c))\n",
    "\n",
    "    return chunked"
   ],
   "metadata": {
    "collapsed": false,
    "pycharm": {
     "name": "#%%\n"
    }
   }
  },
  {
   "cell_type": "code",
   "execution_count": 2,
   "outputs": [
    {
     "ename": "NameError",
     "evalue": "name 'positive_data' is not defined",
     "output_type": "error",
     "traceback": [
      "\u001B[0;31m---------------------------------------------------------------------------\u001B[0m",
      "\u001B[0;31mNameError\u001B[0m                                 Traceback (most recent call last)",
      "Cell \u001B[0;32mIn [2], line 4\u001B[0m\n\u001B[1;32m      1\u001B[0m \u001B[38;5;28;01mimport\u001B[39;00m \u001B[38;5;21;01mnumpy\u001B[39;00m \u001B[38;5;28;01mas\u001B[39;00m \u001B[38;5;21;01mnp\u001B[39;00m\n\u001B[1;32m      2\u001B[0m \u001B[38;5;28;01mfrom\u001B[39;00m \u001B[38;5;21;01mrandom\u001B[39;00m \u001B[38;5;28;01mimport\u001B[39;00m shuffle\n\u001B[0;32m----> 4\u001B[0m all_data \u001B[38;5;241m=\u001B[39m \u001B[43mpositive_data\u001B[49m \u001B[38;5;241m+\u001B[39m negative_data\n\u001B[1;32m      5\u001B[0m shuffle(all_data)\n\u001B[1;32m      6\u001B[0m train \u001B[38;5;241m=\u001B[39m all_data[:\u001B[38;5;241m140000\u001B[39m]\n",
      "\u001B[0;31mNameError\u001B[0m: name 'positive_data' is not defined"
     ]
    }
   ],
   "source": [
    "import numpy as np\n",
    "from random import shuffle\n",
    "\n",
    "all_data = positive_data + negative_data\n",
    "shuffle(all_data)\n",
    "train = all_data[:140000]\n",
    "validation = all_data[140000:]\n",
    "\n",
    "\n",
    "# TODO оптимизировать\n",
    "def matrix_to_np_matrix(float_matrix: [[float]]):\n",
    "    return np.array([np.array(func_chunk(item, 300)) for item in float_matrix])\n",
    "# TODO оптимизировать\n",
    "def list_to_np_matrix(float_list: [float]):\n",
    "    return np.array([np.array([item]) for item in float_list])\n",
    "\n",
    "x_train, y_train = list(zip(*train))\n",
    "x_train = matrix_to_np_matrix(x_train)\n",
    "y_train = list_to_np_matrix(y_train)\n",
    "\n",
    "\n",
    "x_validation, y_validation = list(zip(*validation))\n",
    "x_validation = matrix_to_np_matrix(x_validation)\n",
    "y_validation = list_to_np_matrix(y_validation)"
   ],
   "metadata": {
    "collapsed": false,
    "pycharm": {
     "name": "#%%\n"
    }
   }
  },
  {
   "cell_type": "code",
   "execution_count": 85,
   "outputs": [],
   "source": [
    "from keras.layers import Dense, Conv1D, MaxPooling1D, Flatten\n",
    "from keras import Sequential, Input\n",
    "\n",
    "model = Sequential()\n",
    "model.add(Conv1D(300, 5, input_shape=(5, 300),activation='elu', padding='same'))\n",
    "model.add(MaxPooling1D(pool_size=3, padding='same'))\n",
    "model.add(Conv1D(100, 5, input_shape=(5, 100),activation='elu', padding='same'))\n",
    "model.add(MaxPooling1D(pool_size=2, padding='same'))\n",
    "model.add(Flatten())\n",
    "model.add(Dense(32, activation='sigmoid'))\n",
    "model.add(Dense(1, activation='sigmoid'))\n",
    "model.compile(loss='binary_crossentropy', metrics=['accuracy'], optimizer='adam')"
   ],
   "metadata": {
    "collapsed": false,
    "pycharm": {
     "name": "#%%\n"
    }
   }
  },
  {
   "cell_type": "code",
   "execution_count": 86,
   "outputs": [
    {
     "name": "stdout",
     "output_type": "stream",
     "text": [
      "Epoch 1/100\n",
      "140/140 [==============================] - 9s 63ms/step - loss: 0.2205 - accuracy: 0.9348 - val_loss: 0.0942 - val_accuracy: 0.9809\n",
      "Epoch 2/100\n",
      "140/140 [==============================] - 9s 62ms/step - loss: 0.0832 - accuracy: 0.9815 - val_loss: 0.0663 - val_accuracy: 0.9871\n",
      "Epoch 3/100\n",
      "140/140 [==============================] - 9s 63ms/step - loss: 0.0621 - accuracy: 0.9854 - val_loss: 0.0454 - val_accuracy: 0.9903\n",
      "Epoch 4/100\n",
      "140/140 [==============================] - 9s 63ms/step - loss: 0.0441 - accuracy: 0.9890 - val_loss: 0.0370 - val_accuracy: 0.9906\n",
      "Epoch 5/100\n",
      "140/140 [==============================] - 9s 63ms/step - loss: 0.0327 - accuracy: 0.9913 - val_loss: 0.0338 - val_accuracy: 0.9908\n",
      "Epoch 6/100\n",
      "140/140 [==============================] - 9s 63ms/step - loss: 0.0459 - accuracy: 0.9860 - val_loss: 0.0315 - val_accuracy: 0.9915\n",
      "Epoch 7/100\n",
      "140/140 [==============================] - 9s 63ms/step - loss: 0.0301 - accuracy: 0.9914 - val_loss: 0.0281 - val_accuracy: 0.9928\n",
      "Epoch 8/100\n",
      "140/140 [==============================] - 9s 63ms/step - loss: 0.0242 - accuracy: 0.9930 - val_loss: 0.0379 - val_accuracy: 0.9884\n",
      "Epoch 9/100\n",
      "140/140 [==============================] - 9s 63ms/step - loss: 0.0230 - accuracy: 0.9933 - val_loss: 0.0257 - val_accuracy: 0.9931\n",
      "Epoch 10/100\n",
      "140/140 [==============================] - 9s 64ms/step - loss: 0.0213 - accuracy: 0.9937 - val_loss: 0.0328 - val_accuracy: 0.9909\n",
      "Epoch 11/100\n",
      "140/140 [==============================] - 9s 63ms/step - loss: 0.0229 - accuracy: 0.9933 - val_loss: 0.0315 - val_accuracy: 0.9901\n",
      "Epoch 12/100\n",
      "140/140 [==============================] - 9s 63ms/step - loss: 0.0204 - accuracy: 0.9936 - val_loss: 0.0242 - val_accuracy: 0.9927\n",
      "Epoch 13/100\n",
      "140/140 [==============================] - 9s 64ms/step - loss: 0.0173 - accuracy: 0.9946 - val_loss: 0.0197 - val_accuracy: 0.9942\n",
      "Epoch 14/100\n",
      "140/140 [==============================] - 9s 64ms/step - loss: 0.0169 - accuracy: 0.9946 - val_loss: 0.0257 - val_accuracy: 0.9927\n",
      "Epoch 15/100\n",
      "140/140 [==============================] - 9s 64ms/step - loss: 0.0161 - accuracy: 0.9948 - val_loss: 0.0247 - val_accuracy: 0.9933\n",
      "Epoch 16/100\n",
      "140/140 [==============================] - 9s 64ms/step - loss: 0.0150 - accuracy: 0.9952 - val_loss: 0.0186 - val_accuracy: 0.9943\n",
      "Epoch 17/100\n",
      "140/140 [==============================] - 9s 64ms/step - loss: 0.0161 - accuracy: 0.9949 - val_loss: 0.0224 - val_accuracy: 0.9940\n",
      "Epoch 18/100\n",
      "140/140 [==============================] - 9s 64ms/step - loss: 0.0125 - accuracy: 0.9961 - val_loss: 0.0196 - val_accuracy: 0.9940\n",
      "Epoch 19/100\n",
      "140/140 [==============================] - 9s 64ms/step - loss: 0.0122 - accuracy: 0.9962 - val_loss: 0.0184 - val_accuracy: 0.9943\n",
      "Epoch 20/100\n",
      "140/140 [==============================] - 9s 65ms/step - loss: 0.0110 - accuracy: 0.9965 - val_loss: 0.0227 - val_accuracy: 0.9938\n",
      "Epoch 21/100\n",
      "140/140 [==============================] - 9s 65ms/step - loss: 0.0154 - accuracy: 0.9949 - val_loss: 0.0235 - val_accuracy: 0.9934\n",
      "Epoch 22/100\n",
      "140/140 [==============================] - 9s 66ms/step - loss: 0.0090 - accuracy: 0.9973 - val_loss: 0.0190 - val_accuracy: 0.9943\n",
      "Epoch 23/100\n",
      "140/140 [==============================] - 9s 65ms/step - loss: 0.0098 - accuracy: 0.9969 - val_loss: 0.0194 - val_accuracy: 0.9943\n",
      "Epoch 24/100\n",
      "140/140 [==============================] - 9s 65ms/step - loss: 0.0114 - accuracy: 0.9963 - val_loss: 0.0221 - val_accuracy: 0.9940\n",
      "Epoch 25/100\n",
      "140/140 [==============================] - 9s 63ms/step - loss: 0.0079 - accuracy: 0.9974 - val_loss: 0.0209 - val_accuracy: 0.9937\n",
      "Epoch 26/100\n",
      "140/140 [==============================] - 9s 65ms/step - loss: 0.0085 - accuracy: 0.9973 - val_loss: 0.0263 - val_accuracy: 0.9923\n",
      "Epoch 27/100\n",
      "140/140 [==============================] - 9s 63ms/step - loss: 0.0055 - accuracy: 0.9983 - val_loss: 0.0294 - val_accuracy: 0.9931\n",
      "Epoch 28/100\n",
      "140/140 [==============================] - 9s 63ms/step - loss: 0.0058 - accuracy: 0.9983 - val_loss: 0.0286 - val_accuracy: 0.9921\n",
      "Epoch 29/100\n",
      "140/140 [==============================] - 9s 63ms/step - loss: 0.0111 - accuracy: 0.9964 - val_loss: 0.0279 - val_accuracy: 0.9929\n",
      "Epoch 30/100\n",
      "140/140 [==============================] - 9s 63ms/step - loss: 0.0039 - accuracy: 0.9989 - val_loss: 0.0234 - val_accuracy: 0.9945\n",
      "Epoch 31/100\n",
      "140/140 [==============================] - 9s 63ms/step - loss: 0.0060 - accuracy: 0.9982 - val_loss: 0.0235 - val_accuracy: 0.9946\n",
      "Epoch 32/100\n",
      "140/140 [==============================] - 9s 63ms/step - loss: 0.0184 - accuracy: 0.9942 - val_loss: 0.0201 - val_accuracy: 0.9937\n",
      "Epoch 33/100\n",
      "140/140 [==============================] - 9s 64ms/step - loss: 0.0050 - accuracy: 0.9985 - val_loss: 0.0418 - val_accuracy: 0.9910\n",
      "Epoch 34/100\n",
      "140/140 [==============================] - 9s 63ms/step - loss: 0.0041 - accuracy: 0.9988 - val_loss: 0.0223 - val_accuracy: 0.9936\n",
      "Epoch 35/100\n",
      "140/140 [==============================] - 9s 63ms/step - loss: 0.0049 - accuracy: 0.9984 - val_loss: 0.0195 - val_accuracy: 0.9944\n",
      "Epoch 36/100\n",
      "140/140 [==============================] - 9s 63ms/step - loss: 0.0036 - accuracy: 0.9990 - val_loss: 0.0252 - val_accuracy: 0.9941\n",
      "Epoch 37/100\n",
      "140/140 [==============================] - 9s 63ms/step - loss: 0.0068 - accuracy: 0.9979 - val_loss: 0.0267 - val_accuracy: 0.9935\n",
      "Epoch 38/100\n",
      "140/140 [==============================] - 9s 63ms/step - loss: 0.0039 - accuracy: 0.9989 - val_loss: 0.0264 - val_accuracy: 0.9939\n",
      "Epoch 39/100\n",
      "140/140 [==============================] - 9s 63ms/step - loss: 0.0048 - accuracy: 0.9984 - val_loss: 0.0229 - val_accuracy: 0.9945\n",
      "Epoch 40/100\n",
      "140/140 [==============================] - 9s 63ms/step - loss: 0.0027 - accuracy: 0.9992 - val_loss: 0.0247 - val_accuracy: 0.9942\n",
      "Epoch 41/100\n",
      "140/140 [==============================] - 9s 64ms/step - loss: 0.0028 - accuracy: 0.9991 - val_loss: 0.0288 - val_accuracy: 0.9928\n",
      "Epoch 42/100\n",
      "140/140 [==============================] - 9s 63ms/step - loss: 0.0049 - accuracy: 0.9984 - val_loss: 0.0305 - val_accuracy: 0.9936\n",
      "Epoch 43/100\n",
      "140/140 [==============================] - 9s 63ms/step - loss: 0.0012 - accuracy: 0.9997 - val_loss: 0.0272 - val_accuracy: 0.9942\n",
      "Epoch 44/100\n",
      "140/140 [==============================] - 9s 63ms/step - loss: 0.0019 - accuracy: 0.9995 - val_loss: 0.0268 - val_accuracy: 0.9935\n",
      "Epoch 45/100\n",
      "140/140 [==============================] - 9s 63ms/step - loss: 0.0085 - accuracy: 0.9971 - val_loss: 0.0265 - val_accuracy: 0.9938\n",
      "Epoch 46/100\n",
      "140/140 [==============================] - 9s 63ms/step - loss: 0.0046 - accuracy: 0.9987 - val_loss: 0.0336 - val_accuracy: 0.9925\n",
      "Epoch 47/100\n",
      "140/140 [==============================] - 9s 63ms/step - loss: 0.0030 - accuracy: 0.9991 - val_loss: 0.0266 - val_accuracy: 0.9938\n",
      "Epoch 48/100\n",
      "140/140 [==============================] - 9s 63ms/step - loss: 0.0021 - accuracy: 0.9994 - val_loss: 0.0304 - val_accuracy: 0.9944\n",
      "Epoch 49/100\n",
      "140/140 [==============================] - 9s 64ms/step - loss: 9.5973e-04 - accuracy: 0.9998 - val_loss: 0.0326 - val_accuracy: 0.9937\n",
      "Epoch 50/100\n",
      "140/140 [==============================] - 9s 64ms/step - loss: 0.0095 - accuracy: 0.9971 - val_loss: 0.0406 - val_accuracy: 0.9908\n",
      "Epoch 51/100\n",
      "140/140 [==============================] - 9s 65ms/step - loss: 0.0098 - accuracy: 0.9968 - val_loss: 0.0208 - val_accuracy: 0.9940\n",
      "Epoch 52/100\n",
      "140/140 [==============================] - 9s 63ms/step - loss: 0.0018 - accuracy: 0.9995 - val_loss: 0.0267 - val_accuracy: 0.9941\n",
      "Epoch 53/100\n",
      "140/140 [==============================] - 9s 64ms/step - loss: 0.0046 - accuracy: 0.9986 - val_loss: 0.0269 - val_accuracy: 0.9940\n",
      "Epoch 54/100\n",
      "140/140 [==============================] - 9s 64ms/step - loss: 0.0015 - accuracy: 0.9996 - val_loss: 0.0294 - val_accuracy: 0.9941\n",
      "Epoch 55/100\n",
      "140/140 [==============================] - 9s 63ms/step - loss: 0.0045 - accuracy: 0.9987 - val_loss: 0.0270 - val_accuracy: 0.9946\n",
      "Epoch 56/100\n",
      "140/140 [==============================] - 9s 63ms/step - loss: 0.0033 - accuracy: 0.9990 - val_loss: 0.0483 - val_accuracy: 0.9887\n",
      "Epoch 57/100\n",
      "140/140 [==============================] - 9s 64ms/step - loss: 0.0029 - accuracy: 0.9990 - val_loss: 0.0265 - val_accuracy: 0.9941\n",
      "Epoch 58/100\n",
      "140/140 [==============================] - 9s 63ms/step - loss: 6.4486e-04 - accuracy: 0.9999 - val_loss: 0.0292 - val_accuracy: 0.9945\n",
      "Epoch 59/100\n",
      "140/140 [==============================] - 9s 63ms/step - loss: 0.0054 - accuracy: 0.9983 - val_loss: 0.0254 - val_accuracy: 0.9943\n",
      "Epoch 60/100\n",
      "140/140 [==============================] - 9s 64ms/step - loss: 0.0058 - accuracy: 0.9984 - val_loss: 0.0266 - val_accuracy: 0.9941\n",
      "Epoch 61/100\n",
      "140/140 [==============================] - 9s 64ms/step - loss: 0.0014 - accuracy: 0.9997 - val_loss: 0.0365 - val_accuracy: 0.9917\n",
      "Epoch 62/100\n",
      "140/140 [==============================] - 9s 63ms/step - loss: 0.0016 - accuracy: 0.9996 - val_loss: 0.0343 - val_accuracy: 0.9922\n",
      "Epoch 63/100\n",
      "140/140 [==============================] - 9s 63ms/step - loss: 0.0032 - accuracy: 0.9990 - val_loss: 0.0227 - val_accuracy: 0.9938\n",
      "Epoch 64/100\n",
      "140/140 [==============================] - 9s 64ms/step - loss: 0.0018 - accuracy: 0.9994 - val_loss: 0.0298 - val_accuracy: 0.9944\n",
      "Epoch 65/100\n",
      "140/140 [==============================] - 9s 63ms/step - loss: 0.0023 - accuracy: 0.9994 - val_loss: 0.0227 - val_accuracy: 0.9946\n",
      "Epoch 66/100\n",
      "140/140 [==============================] - 9s 63ms/step - loss: 0.0018 - accuracy: 0.9995 - val_loss: 0.0352 - val_accuracy: 0.9928\n",
      "Epoch 67/100\n",
      "140/140 [==============================] - 9s 64ms/step - loss: 0.0156 - accuracy: 0.9954 - val_loss: 0.0226 - val_accuracy: 0.9940\n",
      "Epoch 68/100\n",
      "140/140 [==============================] - 9s 65ms/step - loss: 0.0026 - accuracy: 0.9992 - val_loss: 0.0300 - val_accuracy: 0.9928\n",
      "Epoch 69/100\n",
      "140/140 [==============================] - 9s 63ms/step - loss: 8.8775e-04 - accuracy: 0.9998 - val_loss: 0.0269 - val_accuracy: 0.9948\n",
      "Epoch 70/100\n",
      "140/140 [==============================] - 9s 64ms/step - loss: 0.0039 - accuracy: 0.9990 - val_loss: 0.0256 - val_accuracy: 0.9924\n",
      "Epoch 71/100\n",
      "140/140 [==============================] - 9s 64ms/step - loss: 0.0023 - accuracy: 0.9994 - val_loss: 0.0302 - val_accuracy: 0.9939\n",
      "Epoch 72/100\n",
      "140/140 [==============================] - 9s 64ms/step - loss: 0.0017 - accuracy: 0.9996 - val_loss: 0.0308 - val_accuracy: 0.9912\n",
      "Epoch 73/100\n",
      "140/140 [==============================] - 9s 64ms/step - loss: 0.0013 - accuracy: 0.9996 - val_loss: 0.0400 - val_accuracy: 0.9923\n",
      "Epoch 74/100\n",
      "140/140 [==============================] - 9s 66ms/step - loss: 0.0223 - accuracy: 0.9935 - val_loss: 0.0241 - val_accuracy: 0.9935\n",
      "Epoch 75/100\n",
      "140/140 [==============================] - 9s 64ms/step - loss: 0.0037 - accuracy: 0.9988 - val_loss: 0.0237 - val_accuracy: 0.9939\n",
      "Epoch 76/100\n",
      "140/140 [==============================] - 9s 64ms/step - loss: 0.0023 - accuracy: 0.9993 - val_loss: 0.0286 - val_accuracy: 0.9934\n",
      "Epoch 77/100\n",
      "140/140 [==============================] - 9s 65ms/step - loss: 0.0032 - accuracy: 0.9989 - val_loss: 0.0275 - val_accuracy: 0.9927\n",
      "Epoch 78/100\n",
      "140/140 [==============================] - 9s 64ms/step - loss: 0.0010 - accuracy: 0.9998 - val_loss: 0.0274 - val_accuracy: 0.9947\n",
      "Epoch 79/100\n",
      "140/140 [==============================] - 9s 66ms/step - loss: 0.0063 - accuracy: 0.9984 - val_loss: 0.0211 - val_accuracy: 0.9941\n",
      "Epoch 80/100\n",
      "140/140 [==============================] - 9s 66ms/step - loss: 0.0023 - accuracy: 0.9994 - val_loss: 0.0247 - val_accuracy: 0.9941\n",
      "Epoch 81/100\n",
      "140/140 [==============================] - 9s 66ms/step - loss: 0.0038 - accuracy: 0.9990 - val_loss: 0.0273 - val_accuracy: 0.9924\n",
      "Epoch 82/100\n",
      "140/140 [==============================] - 9s 66ms/step - loss: 0.0037 - accuracy: 0.9988 - val_loss: 0.0283 - val_accuracy: 0.9941\n",
      "Epoch 83/100\n",
      "140/140 [==============================] - 9s 64ms/step - loss: 0.0121 - accuracy: 0.9964 - val_loss: 0.0228 - val_accuracy: 0.9937\n",
      "Epoch 84/100\n",
      "140/140 [==============================] - 9s 64ms/step - loss: 0.0029 - accuracy: 0.9992 - val_loss: 0.0250 - val_accuracy: 0.9942\n",
      "Epoch 85/100\n",
      "140/140 [==============================] - 9s 64ms/step - loss: 0.0029 - accuracy: 0.9990 - val_loss: 0.0228 - val_accuracy: 0.9941\n",
      "Epoch 86/100\n",
      "140/140 [==============================] - 9s 64ms/step - loss: 6.7286e-04 - accuracy: 0.9999 - val_loss: 0.0298 - val_accuracy: 0.9945\n",
      "Epoch 87/100\n",
      "140/140 [==============================] - 9s 64ms/step - loss: 9.6667e-04 - accuracy: 0.9998 - val_loss: 0.0403 - val_accuracy: 0.9926\n",
      "Epoch 88/100\n",
      "140/140 [==============================] - 9s 65ms/step - loss: 0.0203 - accuracy: 0.9940 - val_loss: 0.0249 - val_accuracy: 0.9946\n",
      "Epoch 89/100\n",
      "140/140 [==============================] - 9s 64ms/step - loss: 0.0029 - accuracy: 0.9990 - val_loss: 0.0272 - val_accuracy: 0.9939\n",
      "Epoch 90/100\n",
      "140/140 [==============================] - 9s 64ms/step - loss: 6.9119e-04 - accuracy: 0.9998 - val_loss: 0.0315 - val_accuracy: 0.9940\n",
      "Epoch 91/100\n",
      "140/140 [==============================] - 9s 64ms/step - loss: 6.8407e-04 - accuracy: 0.9999 - val_loss: 0.0275 - val_accuracy: 0.9951\n",
      "Epoch 92/100\n",
      "140/140 [==============================] - 9s 64ms/step - loss: 0.0025 - accuracy: 0.9991 - val_loss: 0.0297 - val_accuracy: 0.9945\n",
      "Epoch 93/100\n",
      "140/140 [==============================] - 9s 64ms/step - loss: 0.0012 - accuracy: 0.9997 - val_loss: 0.0312 - val_accuracy: 0.9944\n",
      "Epoch 94/100\n",
      "140/140 [==============================] - 9s 65ms/step - loss: 3.3378e-04 - accuracy: 1.0000 - val_loss: 0.0317 - val_accuracy: 0.9944\n",
      "Epoch 95/100\n",
      "140/140 [==============================] - 9s 64ms/step - loss: 2.8570e-04 - accuracy: 1.0000 - val_loss: 0.0320 - val_accuracy: 0.9946\n",
      "Epoch 96/100\n",
      "140/140 [==============================] - 9s 64ms/step - loss: 2.7812e-04 - accuracy: 1.0000 - val_loss: 0.0327 - val_accuracy: 0.9946\n",
      "Epoch 97/100\n",
      "140/140 [==============================] - 9s 65ms/step - loss: 2.6383e-04 - accuracy: 1.0000 - val_loss: 0.0328 - val_accuracy: 0.9944\n",
      "Epoch 98/100\n",
      "140/140 [==============================] - 9s 64ms/step - loss: 2.6140e-04 - accuracy: 1.0000 - val_loss: 0.0328 - val_accuracy: 0.9944\n",
      "Epoch 99/100\n",
      "140/140 [==============================] - 9s 65ms/step - loss: 2.5891e-04 - accuracy: 1.0000 - val_loss: 0.0329 - val_accuracy: 0.9942\n",
      "Epoch 100/100\n",
      "140/140 [==============================] - 9s 64ms/step - loss: 2.5739e-04 - accuracy: 1.0000 - val_loss: 0.0330 - val_accuracy: 0.9948\n"
     ]
    }
   ],
   "source": [
    "history = model.fit(x_train, y_train,\n",
    "                    batch_size=1000,\n",
    "                    epochs=100,\n",
    "                    verbose=1,\n",
    "                    validation_data=(x_validation, y_validation))"
   ],
   "metadata": {
    "collapsed": false,
    "pycharm": {
     "name": "#%%\n"
    }
   }
  },
  {
   "cell_type": "code",
   "execution_count": 67,
   "outputs": [
    {
     "data": {
      "text/plain": "<IPython.core.display.SVG object>",
      "image/svg+xml": "<svg xmlns=\"http://www.w3.org/2000/svg\" xmlns:xlink=\"http://www.w3.org/1999/xlink\" width=\"376pt\" height=\"516pt\" viewBox=\"0.00 0.00 282.00 387.00\">\n<g id=\"graph0\" class=\"graph\" transform=\"scale(1.33333 1.33333) rotate(0) translate(4 383)\">\n<title>G</title>\n<polygon fill=\"white\" stroke=\"none\" points=\"-4,4 -4,-383 278,-383 278,4 -4,4\"/>\n<!-- 11830551136 -->\n<g id=\"node1\" class=\"node\">\n<title>11830551136</title>\n<polygon fill=\"none\" stroke=\"black\" points=\"1,-332.5 1,-378.5 273,-378.5 273,-332.5 1,-332.5\"/>\n<text text-anchor=\"middle\" x=\"56.5\" y=\"-363.3\" font-family=\"Times,serif\" font-size=\"14.00\">conv1d_12_input</text>\n<polyline fill=\"none\" stroke=\"black\" points=\"1,-355.5 112,-355.5\"/>\n<text text-anchor=\"middle\" x=\"56.5\" y=\"-340.3\" font-family=\"Times,serif\" font-size=\"14.00\">InputLayer</text>\n<polyline fill=\"none\" stroke=\"black\" points=\"112,-332.5 112,-378.5\"/>\n<text text-anchor=\"middle\" x=\"139.5\" y=\"-363.3\" font-family=\"Times,serif\" font-size=\"14.00\">input:</text>\n<polyline fill=\"none\" stroke=\"black\" points=\"112,-355.5 167,-355.5\"/>\n<text text-anchor=\"middle\" x=\"139.5\" y=\"-340.3\" font-family=\"Times,serif\" font-size=\"14.00\">output:</text>\n<polyline fill=\"none\" stroke=\"black\" points=\"167,-332.5 167,-378.5\"/>\n<text text-anchor=\"middle\" x=\"220\" y=\"-363.3\" font-family=\"Times,serif\" font-size=\"14.00\">[(None, 5, 300)]</text>\n<polyline fill=\"none\" stroke=\"black\" points=\"167,-355.5 273,-355.5\"/>\n<text text-anchor=\"middle\" x=\"220\" y=\"-340.3\" font-family=\"Times,serif\" font-size=\"14.00\">[(None, 5, 300)]</text>\n</g>\n<!-- 11830552192 -->\n<g id=\"node2\" class=\"node\">\n<title>11830552192</title>\n<polygon fill=\"none\" stroke=\"black\" points=\"22.5,-249.5 22.5,-295.5 251.5,-295.5 251.5,-249.5 22.5,-249.5\"/>\n<text text-anchor=\"middle\" x=\"61\" y=\"-280.3\" font-family=\"Times,serif\" font-size=\"14.00\">conv1d_12</text>\n<polyline fill=\"none\" stroke=\"black\" points=\"22.5,-272.5 99.5,-272.5\"/>\n<text text-anchor=\"middle\" x=\"61\" y=\"-257.3\" font-family=\"Times,serif\" font-size=\"14.00\">Conv1D</text>\n<polyline fill=\"none\" stroke=\"black\" points=\"99.5,-249.5 99.5,-295.5\"/>\n<text text-anchor=\"middle\" x=\"127\" y=\"-280.3\" font-family=\"Times,serif\" font-size=\"14.00\">input:</text>\n<polyline fill=\"none\" stroke=\"black\" points=\"99.5,-272.5 154.5,-272.5\"/>\n<text text-anchor=\"middle\" x=\"127\" y=\"-257.3\" font-family=\"Times,serif\" font-size=\"14.00\">output:</text>\n<polyline fill=\"none\" stroke=\"black\" points=\"154.5,-249.5 154.5,-295.5\"/>\n<text text-anchor=\"middle\" x=\"203\" y=\"-280.3\" font-family=\"Times,serif\" font-size=\"14.00\">(None, 5, 300)</text>\n<polyline fill=\"none\" stroke=\"black\" points=\"154.5,-272.5 251.5,-272.5\"/>\n<text text-anchor=\"middle\" x=\"203\" y=\"-257.3\" font-family=\"Times,serif\" font-size=\"14.00\">(None, 5, 128)</text>\n</g>\n<!-- 11830551136&#45;&gt;11830552192 -->\n<g id=\"edge1\" class=\"edge\">\n<title>11830551136-&gt;11830552192</title>\n<path fill=\"none\" stroke=\"black\" d=\"M137,-332.37C137,-324.15 137,-314.66 137,-305.73\"/>\n<polygon fill=\"black\" stroke=\"black\" points=\"140.5,-305.61 137,-295.61 133.5,-305.61 140.5,-305.61\"/>\n</g>\n<!-- 11811687728 -->\n<g id=\"node3\" class=\"node\">\n<title>11811687728</title>\n<polygon fill=\"none\" stroke=\"black\" points=\"0,-166.5 0,-212.5 274,-212.5 274,-166.5 0,-166.5\"/>\n<text text-anchor=\"middle\" x=\"61\" y=\"-197.3\" font-family=\"Times,serif\" font-size=\"14.00\">max_pooling1d_16</text>\n<polyline fill=\"none\" stroke=\"black\" points=\"0,-189.5 122,-189.5\"/>\n<text text-anchor=\"middle\" x=\"61\" y=\"-174.3\" font-family=\"Times,serif\" font-size=\"14.00\">MaxPooling1D</text>\n<polyline fill=\"none\" stroke=\"black\" points=\"122,-166.5 122,-212.5\"/>\n<text text-anchor=\"middle\" x=\"149.5\" y=\"-197.3\" font-family=\"Times,serif\" font-size=\"14.00\">input:</text>\n<polyline fill=\"none\" stroke=\"black\" points=\"122,-189.5 177,-189.5\"/>\n<text text-anchor=\"middle\" x=\"149.5\" y=\"-174.3\" font-family=\"Times,serif\" font-size=\"14.00\">output:</text>\n<polyline fill=\"none\" stroke=\"black\" points=\"177,-166.5 177,-212.5\"/>\n<text text-anchor=\"middle\" x=\"225.5\" y=\"-197.3\" font-family=\"Times,serif\" font-size=\"14.00\">(None, 5, 128)</text>\n<polyline fill=\"none\" stroke=\"black\" points=\"177,-189.5 274,-189.5\"/>\n<text text-anchor=\"middle\" x=\"225.5\" y=\"-174.3\" font-family=\"Times,serif\" font-size=\"14.00\">(None, 1, 128)</text>\n</g>\n<!-- 11830552192&#45;&gt;11811687728 -->\n<g id=\"edge2\" class=\"edge\">\n<title>11830552192-&gt;11811687728</title>\n<path fill=\"none\" stroke=\"black\" d=\"M137,-249.37C137,-241.15 137,-231.66 137,-222.73\"/>\n<polygon fill=\"black\" stroke=\"black\" points=\"140.5,-222.61 137,-212.61 133.5,-222.61 140.5,-222.61\"/>\n</g>\n<!-- 11853861872 -->\n<g id=\"node4\" class=\"node\">\n<title>11853861872</title>\n<polygon fill=\"none\" stroke=\"black\" points=\"22.5,-83.5 22.5,-129.5 251.5,-129.5 251.5,-83.5 22.5,-83.5\"/>\n<text text-anchor=\"middle\" x=\"61\" y=\"-114.3\" font-family=\"Times,serif\" font-size=\"14.00\">conv1d_13</text>\n<polyline fill=\"none\" stroke=\"black\" points=\"22.5,-106.5 99.5,-106.5\"/>\n<text text-anchor=\"middle\" x=\"61\" y=\"-91.3\" font-family=\"Times,serif\" font-size=\"14.00\">Conv1D</text>\n<polyline fill=\"none\" stroke=\"black\" points=\"99.5,-83.5 99.5,-129.5\"/>\n<text text-anchor=\"middle\" x=\"127\" y=\"-114.3\" font-family=\"Times,serif\" font-size=\"14.00\">input:</text>\n<polyline fill=\"none\" stroke=\"black\" points=\"99.5,-106.5 154.5,-106.5\"/>\n<text text-anchor=\"middle\" x=\"127\" y=\"-91.3\" font-family=\"Times,serif\" font-size=\"14.00\">output:</text>\n<polyline fill=\"none\" stroke=\"black\" points=\"154.5,-83.5 154.5,-129.5\"/>\n<text text-anchor=\"middle\" x=\"203\" y=\"-114.3\" font-family=\"Times,serif\" font-size=\"14.00\">(None, 1, 128)</text>\n<polyline fill=\"none\" stroke=\"black\" points=\"154.5,-106.5 251.5,-106.5\"/>\n<text text-anchor=\"middle\" x=\"203\" y=\"-91.3\" font-family=\"Times,serif\" font-size=\"14.00\">(None, 1, 128)</text>\n</g>\n<!-- 11811687728&#45;&gt;11853861872 -->\n<g id=\"edge3\" class=\"edge\">\n<title>11811687728-&gt;11853861872</title>\n<path fill=\"none\" stroke=\"black\" d=\"M137,-166.37C137,-158.15 137,-148.66 137,-139.73\"/>\n<polygon fill=\"black\" stroke=\"black\" points=\"140.5,-139.61 137,-129.61 133.5,-139.61 140.5,-139.61\"/>\n</g>\n<!-- 11853864032 -->\n<g id=\"node5\" class=\"node\">\n<title>11853864032</title>\n<polygon fill=\"none\" stroke=\"black\" points=\"27,-0.5 27,-46.5 247,-46.5 247,-0.5 27,-0.5\"/>\n<text text-anchor=\"middle\" x=\"61\" y=\"-31.3\" font-family=\"Times,serif\" font-size=\"14.00\">dense_51</text>\n<polyline fill=\"none\" stroke=\"black\" points=\"27,-23.5 95,-23.5\"/>\n<text text-anchor=\"middle\" x=\"61\" y=\"-8.3\" font-family=\"Times,serif\" font-size=\"14.00\">Dense</text>\n<polyline fill=\"none\" stroke=\"black\" points=\"95,-0.5 95,-46.5\"/>\n<text text-anchor=\"middle\" x=\"122.5\" y=\"-31.3\" font-family=\"Times,serif\" font-size=\"14.00\">input:</text>\n<polyline fill=\"none\" stroke=\"black\" points=\"95,-23.5 150,-23.5\"/>\n<text text-anchor=\"middle\" x=\"122.5\" y=\"-8.3\" font-family=\"Times,serif\" font-size=\"14.00\">output:</text>\n<polyline fill=\"none\" stroke=\"black\" points=\"150,-0.5 150,-46.5\"/>\n<text text-anchor=\"middle\" x=\"198.5\" y=\"-31.3\" font-family=\"Times,serif\" font-size=\"14.00\">(None, 1, 128)</text>\n<polyline fill=\"none\" stroke=\"black\" points=\"150,-23.5 247,-23.5\"/>\n<text text-anchor=\"middle\" x=\"198.5\" y=\"-8.3\" font-family=\"Times,serif\" font-size=\"14.00\">(None, 1, 1)</text>\n</g>\n<!-- 11853861872&#45;&gt;11853864032 -->\n<g id=\"edge4\" class=\"edge\">\n<title>11853861872-&gt;11853864032</title>\n<path fill=\"none\" stroke=\"black\" d=\"M137,-83.37C137,-75.15 137,-65.66 137,-56.73\"/>\n<polygon fill=\"black\" stroke=\"black\" points=\"140.5,-56.61 137,-46.61 133.5,-56.61 140.5,-56.61\"/>\n</g>\n</g>\n</svg>"
     },
     "execution_count": 67,
     "metadata": {},
     "output_type": "execute_result"
    }
   ],
   "source": [
    "from IPython.display import SVG\n",
    "from keras.utils.vis_utils import model_to_dot\n",
    "\n",
    "SVG(model_to_dot(model, show_shapes=True).create(prog='dot', format='svg'))"
   ],
   "metadata": {
    "collapsed": false,
    "pycharm": {
     "name": "#%%\n"
    }
   }
  },
  {
   "cell_type": "code",
   "execution_count": 87,
   "outputs": [
    {
     "data": {
      "text/plain": "<Figure size 640x480 with 1 Axes>",
      "image/png": "[encoded data removed]"
     },
     "metadata": {},
     "output_type": "display_data"
    },
    {
     "data": {
      "text/plain": "<Figure size 640x480 with 1 Axes>",
      "image/png": "[encoded data removed]"
     },
     "metadata": {},
     "output_type": "display_data"
    }
   ],
   "source": [
    "import matplotlib.pyplot as plt\n",
    "plt.plot(history.history['accuracy'])\n",
    "plt.plot(history.history['val_accuracy'])\n",
    "plt.title('model accuracy')\n",
    "plt.ylabel('accuracy')\n",
    "plt.xlabel('epoch')\n",
    "plt.legend(['train', 'test'], loc='upper left')\n",
    "plt.show()\n",
    "# summarize history for loss\n",
    "plt.plot(history.history['loss'])\n",
    "plt.plot(history.history['val_loss'])\n",
    "plt.title('model loss')\n",
    "plt.ylabel('loss')\n",
    "plt.xlabel('epoch')\n",
    "plt.legend(['train', 'test'], loc='upper left')\n",
    "plt.show()"
   ],
   "metadata": {
    "collapsed": false,
    "pycharm": {
     "name": "#%%\n"
    }
   }
  },
  {
   "cell_type": "code",
   "execution_count": 4,
   "outputs": [
    {
     "name": "stdout",
     "output_type": "stream",
     "text": [
      "['кран', 'плыл', 'небом', 'красного', 'песка']\n"
     ]
    },
    {
     "ename": "NameError",
     "evalue": "name 'word_list_to_vec' is not defined",
     "output_type": "error",
     "traceback": [
      "\u001B[0;31m---------------------------------------------------------------------------\u001B[0m",
      "\u001B[0;31mNameError\u001B[0m                                 Traceback (most recent call last)",
      "Cell \u001B[0;32mIn [4], line 4\u001B[0m\n\u001B[1;32m      2\u001B[0m \u001B[38;5;66;03m# sentence_one = [choice(NegativeCorpus().vocab) for _ in range(5)]\u001B[39;00m\n\u001B[1;32m      3\u001B[0m \u001B[38;5;28mprint\u001B[39m(sentence_one)\n\u001B[0;32m----> 4\u001B[0m word2vec_sentence_one \u001B[38;5;241m=\u001B[39m func_chunk(\u001B[43mword_list_to_vec\u001B[49m(sentence_one), \u001B[38;5;241m300\u001B[39m)\n\u001B[1;32m      6\u001B[0m sentence_two \u001B[38;5;241m=\u001B[39m [\u001B[38;5;124m'\u001B[39m\u001B[38;5;124mмама\u001B[39m\u001B[38;5;124m'\u001B[39m, \u001B[38;5;124m'\u001B[39m\u001B[38;5;124mмыла\u001B[39m\u001B[38;5;124m'\u001B[39m, \u001B[38;5;124m'\u001B[39m\u001B[38;5;124mраму\u001B[39m\u001B[38;5;124m'\u001B[39m, \u001B[38;5;124m'\u001B[39m\u001B[38;5;124mза\u001B[39m\u001B[38;5;124m'\u001B[39m, \u001B[38;5;124m'\u001B[39m\u001B[38;5;124mокном\u001B[39m\u001B[38;5;124m'\u001B[39m]\n\u001B[1;32m      7\u001B[0m \u001B[38;5;28mprint\u001B[39m(sentence_two)\n",
      "\u001B[0;31mNameError\u001B[0m: name 'word_list_to_vec' is not defined"
     ]
    }
   ],
   "source": [
    "sentence_one = ['кран', 'плыл', 'небом', 'красного', 'песка']\n",
    "# sentence_one = [choice(NegativeCorpus().vocab) for _ in range(5)]\n",
    "print(sentence_one)\n",
    "word2vec_sentence_one = func_chunk(word_list_to_vec(sentence_one), 300)\n",
    "\n",
    "sentence_two = ['мама', 'мыла', 'раму', 'за', 'окном']\n",
    "print(sentence_two)\n",
    "word2vec_sentence_two = func_chunk(word_list_to_vec(sentence_two), 300)\n",
    "\n",
    "print(word2vec_sentence_one)\n",
    "# np_sentence = np.array([np.array(word2vec_sentence_one), np.array(word2vec_sentence_two)])\n",
    "# model.predict(np_sentence)"
   ],
   "metadata": {
    "collapsed": false,
    "pycharm": {
     "name": "#%%\n"
    }
   }
  },
  {
   "cell_type": "code",
   "execution_count": 92,
   "outputs": [],
   "source": [
    "model.save('meaning_classifier.h5')"
   ],
   "metadata": {
    "collapsed": false,
    "pycharm": {
     "name": "#%%\n"
    }
   }
  },
  {
   "cell_type": "code",
   "execution_count": null,
   "outputs": [],
   "source": [],
   "metadata": {
    "collapsed": false,
    "pycharm": {
     "name": "#%%\n"
    }
   }
  }
 ],
 "metadata": {
  "kernelspec": {
   "display_name": "Python 3",
   "language": "python",
   "name": "python3"
  },
  "language_info": {
   "codemirror_mode": {
    "name": "ipython",
    "version": 2
   },
   "file_extension": ".py",
   "mimetype": "text/x-python",
   "name": "python",
   "nbconvert_exporter": "python",
   "pygments_lexer": "ipython2",
   "version": "2.7.6"
  }
 },
 "nbformat": 4,
 "nbformat_minor": 0
}