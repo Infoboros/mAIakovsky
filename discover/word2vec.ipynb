{
 "cells": [
  {
   "cell_type": "code",
   "execution_count": 1,
   "outputs": [],
   "source": [
    "from datetime import timedelta\n",
    "from data_sets import TaigaStihiCorpus\n",
    "\n",
    "corpus = TaigaStihiCorpus({'genre': 'лирика'}, timedelta(minutes=30))\n"
   ],
   "metadata": {
    "collapsed": false,
    "pycharm": {
     "name": "#%%\n"
    }
   }
  },
  {
   "cell_type": "code",
   "execution_count": 1,
   "outputs": [],
   "source": [],
   "metadata": {
    "collapsed": false,
    "pycharm": {
     "name": "#%%\n"
    }
   }
  },
  {
   "cell_type": "code",
   "execution_count": 2,
   "outputs": [
    {
     "name": "stdout",
     "output_type": "stream",
     "text": [
      "Начало обучения: 2022-12-01 00:50:23.233804\n",
      "Конец обучения: 2022-12-01 01:20:23.234702\n",
      "Начало обучения: 2022-12-01 01:20:44.175338\n",
      "Конец обучения: 2022-12-01 01:50:44.175542\n",
      "Начало обучения: 2022-12-01 01:50:47.877632\n",
      "Конец обучения: 2022-12-01 02:20:47.880515\n",
      "Начало обучения: 2022-12-01 02:20:51.997057\n",
      "Конец обучения: 2022-12-01 02:50:52.002811\n",
      "Начало обучения: 2022-12-01 02:50:55.667414\n",
      "Конец обучения: 2022-12-01 03:20:55.667948\n",
      "Начало обучения: 2022-12-01 03:20:59.741561\n",
      "Конец обучения: 2022-12-01 03:50:59.742210\n"
     ]
    }
   ],
   "source": [
    "from gensim.models import Word2Vec\n",
    "model = Word2Vec(sentences=corpus, workers=4, vector_size=300, window=5, min_count=1)"
   ],
   "metadata": {
    "collapsed": false,
    "pycharm": {
     "name": "#%%\n"
    }
   }
  },
  {
   "cell_type": "code",
   "execution_count": 2,
   "outputs": [],
   "source": [],
   "metadata": {
    "collapsed": false,
    "pycharm": {
     "name": "#%%\n"
    }
   }
  },
  {
   "cell_type": "code",
   "execution_count": 3,
   "outputs": [],
   "source": [
    "model.save('stihi_taiga')"
   ],
   "metadata": {
    "collapsed": false,
    "pycharm": {
     "name": "#%%\n"
    }
   }
  },
  {
   "cell_type": "code",
   "execution_count": 5,
   "outputs": [
    {
     "data": {
      "text/plain": "[('взаимная', 0.34392294),\n ('безответная', 0.31772262),\n ('взаимную', 0.17595541),\n ('арвачёва', 0.113502696),\n ('взаимна', 0.03861035),\n ('безусловная', 0.004823949),\n ('неразделённая', 0.0013422862),\n ('первую', 0.0010214731),\n ('настоящая', 0.00059800135),\n ('неразделенная', 0.00038398578),\n ('безусловную', 0.00034060614),\n ('безответную', 0.00033913396),\n ('поздняя', 0.00033573573),\n ('настоящую', 0.00022661277),\n ('материнская', 0.0001729829),\n ('свою', 0.00011523145),\n ('слепа', 8.607602e-05),\n ('безответна', 8.313071e-05),\n ('моя', 6.753685e-05),\n ('прибыткова', 6.454572e-05),\n ('ушедшую', 3.8286962e-05),\n ('запретная', 2.615285e-05),\n ('платоническая', 2.5949625e-05),\n ('материнскую', 1.6633358e-05),\n ('мою', 1.5209703e-05),\n ('вечна', 1.4810149e-05),\n ('неземную', 1.2110677e-05),\n ('виртуальная', 9.812567e-06),\n ('нашу', 9.251458e-06),\n ('твою', 9.087214e-06),\n ('вечная', 6.9659004e-06),\n ('бескорыстная', 6.102385e-06),\n ('запоздалая', 5.718262e-06),\n ('вечную', 5.2293676e-06),\n ('первая', 4.9988803e-06),\n ('ушедшая', 4.3179516e-06),\n ('неземная', 4.0042564e-06),\n ('безграничную', 3.9873216e-06),\n ('ответную', 3.6169681e-06),\n ('безмерную', 3.4514305e-06),\n ('невзаимная', 3.2237979e-06),\n ('светозарова', 3.1565935e-06),\n ('беззаветная', 3.023468e-06),\n ('твоя', 2.9024156e-06),\n ('пылкую', 2.3614346e-06),\n ('бескорыстную', 2.1669846e-06),\n ('безграничная', 2.0166892e-06),\n ('отцовскую', 2.0022019e-06),\n ('угасла', 1.9504841e-06),\n ('левитина', 1.6405797e-06)]"
     },
     "execution_count": 5,
     "metadata": {},
     "output_type": "execute_result"
    }
   ],
   "source": [
    "model.predict_output_word(['любовь'], topn=50)"
   ],
   "metadata": {
    "collapsed": false,
    "pycharm": {
     "name": "#%%\n"
    }
   }
  },
  {
   "cell_type": "code",
   "execution_count": 4,
   "outputs": [],
   "source": [],
   "metadata": {
    "collapsed": false,
    "pycharm": {
     "name": "#%%\n"
    }
   }
  },
  {
   "cell_type": "code",
   "execution_count": 4,
   "outputs": [],
   "source": [],
   "metadata": {
    "collapsed": false,
    "pycharm": {
     "name": "#%%\n"
    }
   }
  }
 ],
 "metadata": {
  "kernelspec": {
   "display_name": "Python 3",
   "language": "python",
   "name": "python3"
  },
  "language_info": {
   "codemirror_mode": {
    "name": "ipython",
    "version": 2
   },
   "file_extension": ".py",
   "mimetype": "text/x-python",
   "name": "python",
   "nbconvert_exporter": "python",
   "pygments_lexer": "ipython2",
   "version": "2.7.6"
  }
 },
 "nbformat": 4,
 "nbformat_minor": 0
}