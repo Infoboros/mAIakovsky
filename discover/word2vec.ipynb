{
 "cells": [
  {
   "cell_type": "code",
   "execution_count": 169,
   "outputs": [],
   "source": [
    "import re\n",
    "from razdel import tokenize, sentenize\n",
    "from corus import load_librusec\n",
    "r_alphabet = re.compile(u'[\\[\\]0-9a-zA-Z-]+|[.,:;?!]+')"
   ],
   "metadata": {
    "collapsed": false,
    "pycharm": {
     "name": "#%%\n"
    }
   }
  },
  {
   "cell_type": "code",
   "execution_count": 170,
   "outputs": [],
   "source": [
    "records = load_librusec('/Volumes/UNTITLED/librusec_fb2.plain.gz')"
   ],
   "metadata": {
    "collapsed": false,
    "pycharm": {
     "name": "#%%\n"
    }
   }
  },
  {
   "cell_type": "code",
   "execution_count": 171,
   "outputs": [],
   "source": [
    "class Corpus:\n",
    "    def __init__(self, records):\n",
    "        self.records = records\n",
    "\n",
    "    def __iter__(self):\n",
    "        try:\n",
    "            for index, record in enumerate(self.records):\n",
    "                if index > 1000:\n",
    "                    break\n",
    "                text = record.text\n",
    "                for sentence in sentenize(text):\n",
    "                    yield [token.text.lower() for token in tokenize(sentence.text)]\n",
    "        except:\n",
    "            pass\n",
    "\n",
    "corpus = Corpus(records)"
   ],
   "metadata": {
    "collapsed": false,
    "pycharm": {
     "name": "#%%\n"
    }
   }
  },
  {
   "cell_type": "code",
   "execution_count": 172,
   "outputs": [],
   "source": [
    "from gensim.models import Word2Vec\n",
    "model = Word2Vec(sentences=corpus, workers=4, vector_size=300, window=3)"
   ],
   "metadata": {
    "collapsed": false,
    "pycharm": {
     "name": "#%%\n"
    }
   }
  },
  {
   "cell_type": "code",
   "execution_count": 173,
   "outputs": [],
   "source": [
    "model.save('librusec')"
   ],
   "metadata": {
    "collapsed": false,
    "pycharm": {
     "name": "#%%\n"
    }
   }
  },
  {
   "cell_type": "code",
   "execution_count": 180,
   "outputs": [
    {
     "name": "stdout",
     "output_type": "stream",
     "text": [
      "['как', 'думаешь', 'хорст', 'следует', 'искать', 'ожидать', '?', 'чего', 'такого', 'поворота', 'важного', 'странного', 'хорошего', 'вопроса', 'замечательного', 'ничего', 'хорошего', 'желать', 'конкретного', 'конкретного', 'поворота', 'опасного', 'ужасного', 'страшного', 'серьезного', 'ничего', 'прекрасного']\n"
     ]
    }
   ],
   "source": [
    "from random import choices\n",
    "\n",
    "sentence = ['как', 'думаешь']\n",
    "def next_word():\n",
    "    # TODO написать тут не случайный выбор, а основанный на вероятности\n",
    "    similars = model.predict_output_word(sentence, topn=50)\n",
    "    # print(similars)\n",
    "    words, weights = list(zip(*similars))\n",
    "    return choices(words)[0]\n",
    "\n",
    "\n",
    "for _ in range(25):\n",
    "    sentence.append(next_word())\n",
    "print(sentence)"
   ],
   "metadata": {
    "collapsed": false,
    "pycharm": {
     "name": "#%%\n"
    }
   }
  },
  {
   "cell_type": "code",
   "execution_count": 174,
   "outputs": [],
   "source": [],
   "metadata": {
    "collapsed": false,
    "pycharm": {
     "name": "#%%\n"
    }
   }
  },
  {
   "cell_type": "code",
   "execution_count": 174,
   "outputs": [],
   "source": [],
   "metadata": {
    "collapsed": false,
    "pycharm": {
     "name": "#%%\n"
    }
   }
  }
 ],
 "metadata": {
  "kernelspec": {
   "display_name": "Python 3",
   "language": "python",
   "name": "python3"
  },
  "language_info": {
   "codemirror_mode": {
    "name": "ipython",
    "version": 2
   },
   "file_extension": ".py",
   "mimetype": "text/x-python",
   "name": "python",
   "nbconvert_exporter": "python",
   "pygments_lexer": "ipython2",
   "version": "2.7.6"
  }
 },
 "nbformat": 4,
 "nbformat_minor": 0
}