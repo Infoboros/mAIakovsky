{
 "cells": [
  {
   "cell_type": "code",
   "execution_count": 1,
   "outputs": [],
   "source": [
    "import re\n",
    "r_alphabet = re.compile(u'[\\[\\]0-9a-zA-Z-]+|[.,:;?!]+')"
   ],
   "metadata": {
    "collapsed": false,
    "pycharm": {
     "name": "#%%\n"
    }
   }
  },
  {
   "cell_type": "code",
   "execution_count": 16,
   "outputs": [
    {
     "ename": "StopIteration",
     "evalue": "",
     "output_type": "error",
     "traceback": [
      "\u001B[0;31m---------------------------------------------------------------------------\u001B[0m",
      "\u001B[0;31mStopIteration\u001B[0m                             Traceback (most recent call last)",
      "Cell \u001B[0;32mIn [16], line 6\u001B[0m\n\u001B[1;32m      4\u001B[0m metas \u001B[38;5;241m=\u001B[39m load_taiga_proza_metas(path, count\u001B[38;5;241m=\u001B[39m\u001B[38;5;241m1\u001B[39m)\n\u001B[1;32m      5\u001B[0m records \u001B[38;5;241m=\u001B[39m load_taiga_proza(path, metas, count\u001B[38;5;241m=\u001B[39m\u001B[38;5;241m1\u001B[39m)\n\u001B[0;32m----> 6\u001B[0m \u001B[38;5;28mprint\u001B[39m(\u001B[38;5;28;43mnext\u001B[39;49m\u001B[43m(\u001B[49m\u001B[43mrecords\u001B[49m\u001B[43m)\u001B[49m)\n",
      "\u001B[0;31mStopIteration\u001B[0m: "
     ]
    }
   ],
   "source": [
    "from corus import load_taiga_proza_metas, load_taiga_proza\n",
    "\n",
    "path = '/Volumes/UNTITLED/retagged_taiga/stihi_ru.zip'\n",
    "metas = load_taiga_proza_metas(path, count=1)\n",
    "records = load_taiga_proza(path, metas, count=1)\n",
    "print(next(records))\n"
   ],
   "metadata": {
    "collapsed": false,
    "pycharm": {
     "name": "#%%\n"
    }
   }
  },
  {
   "cell_type": "code",
   "execution_count": 14,
   "outputs": [
    {
     "ename": "StopIteration",
     "evalue": "",
     "output_type": "error",
     "traceback": [
      "\u001B[0;31m---------------------------------------------------------------------------\u001B[0m",
      "\u001B[0;31mStopIteration\u001B[0m                             Traceback (most recent call last)",
      "Cell \u001B[0;32mIn [14], line 1\u001B[0m\n\u001B[0;32m----> 1\u001B[0m \u001B[38;5;28;43mnext\u001B[39;49m\u001B[43m(\u001B[49m\u001B[43mrecords\u001B[49m\u001B[43m)\u001B[49m\u001B[38;5;241m.\u001B[39mtext\n",
      "\u001B[0;31mStopIteration\u001B[0m: "
     ]
    }
   ],
   "source": [],
   "metadata": {
    "collapsed": false,
    "pycharm": {
     "name": "#%%\n"
    }
   }
  },
  {
   "cell_type": "code",
   "execution_count": 3,
   "outputs": [
    {
     "name": "stdout",
     "output_type": "stream",
     "text": [
      "1\n"
     ]
    },
    {
     "ename": "KeyboardInterrupt",
     "evalue": "",
     "output_type": "error",
     "traceback": [
      "\u001B[0;31m---------------------------------------------------------------------------\u001B[0m",
      "\u001B[0;31mKeyboardInterrupt\u001B[0m                         Traceback (most recent call last)",
      "Cell \u001B[0;32mIn [3], line 6\u001B[0m\n\u001B[1;32m      2\u001B[0m filters \u001B[38;5;241m=\u001B[39m {\n\u001B[1;32m      3\u001B[0m     \u001B[38;5;124m'\u001B[39m\u001B[38;5;124mgenre\u001B[39m\u001B[38;5;124m'\u001B[39m: \u001B[38;5;124m'\u001B[39m\u001B[38;5;124mлирика\u001B[39m\u001B[38;5;124m'\u001B[39m\n\u001B[1;32m      4\u001B[0m }\n\u001B[1;32m      5\u001B[0m corpus \u001B[38;5;241m=\u001B[39m TaigaStihiCorpus(filters)\n\u001B[0;32m----> 6\u001B[0m \u001B[38;5;28;01mfor\u001B[39;00m report \u001B[38;5;129;01min\u001B[39;00m corpus:\n\u001B[1;32m      7\u001B[0m     \u001B[38;5;28mprint\u001B[39m(report)\n\u001B[1;32m      8\u001B[0m     \u001B[38;5;28;01mbreak\u001B[39;00m\n",
      "File \u001B[0;32m~/Work/mAIakovsky/data_sets/stihi_taiga.py:24\u001B[0m, in \u001B[0;36mTaigaStihiCorpus.__iter__\u001B[0;34m(self)\u001B[0m\n\u001B[1;32m     22\u001B[0m \u001B[38;5;28;01mdef\u001B[39;00m \u001B[38;5;21m__iter__\u001B[39m(\u001B[38;5;28mself\u001B[39m):\n\u001B[1;32m     23\u001B[0m     \u001B[38;5;28mprint\u001B[39m(\u001B[38;5;241m1\u001B[39m)\n\u001B[0;32m---> 24\u001B[0m     \u001B[38;5;28;01mfor\u001B[39;00m record \u001B[38;5;129;01min\u001B[39;00m \u001B[38;5;28mself\u001B[39m\u001B[38;5;241m.\u001B[39mrecords:\n\u001B[1;32m     25\u001B[0m         \u001B[38;5;28mprint\u001B[39m(\u001B[38;5;124m'\u001B[39m\u001B[38;5;124mrecord\u001B[39m\u001B[38;5;124m'\u001B[39m)\n\u001B[1;32m     26\u001B[0m         \u001B[38;5;28;01mif\u001B[39;00m \u001B[38;5;28mself\u001B[39m\u001B[38;5;241m.\u001B[39mfilters \u001B[38;5;129;01mand\u001B[39;00m \u001B[38;5;129;01mnot\u001B[39;00m \u001B[38;5;28mself\u001B[39m\u001B[38;5;241m.\u001B[39mcheck_filter(record):\n",
      "File \u001B[0;32m~/.pyenv/versions/mAIkovsky/lib/python3.10/site-packages/corus/sources/taiga/common.py:173\u001B[0m, in \u001B[0;36mmerge_metas\u001B[0;34m(records, metas)\u001B[0m\n\u001B[1;32m    171\u001B[0m         \u001B[38;5;28;01myield\u001B[39;00m record\n\u001B[1;32m    172\u001B[0m \u001B[38;5;28;01melse\u001B[39;00m:\n\u001B[0;32m--> 173\u001B[0m     metas \u001B[38;5;241m=\u001B[39m {_\u001B[38;5;241m.\u001B[39mid: _ \u001B[38;5;28;01mfor\u001B[39;00m _ \u001B[38;5;129;01min\u001B[39;00m metas}\n\u001B[1;32m    174\u001B[0m     \u001B[38;5;28;01mfor\u001B[39;00m record \u001B[38;5;129;01min\u001B[39;00m records:\n\u001B[1;32m    175\u001B[0m         record\u001B[38;5;241m.\u001B[39mmeta \u001B[38;5;241m=\u001B[39m metas\u001B[38;5;241m.\u001B[39mget(record\u001B[38;5;241m.\u001B[39mid)\n",
      "File \u001B[0;32m~/.pyenv/versions/mAIkovsky/lib/python3.10/site-packages/corus/sources/taiga/common.py:173\u001B[0m, in \u001B[0;36m<dictcomp>\u001B[0;34m(.0)\u001B[0m\n\u001B[1;32m    171\u001B[0m         \u001B[38;5;28;01myield\u001B[39;00m record\n\u001B[1;32m    172\u001B[0m \u001B[38;5;28;01melse\u001B[39;00m:\n\u001B[0;32m--> 173\u001B[0m     metas \u001B[38;5;241m=\u001B[39m {_\u001B[38;5;241m.\u001B[39mid: _ \u001B[38;5;28;01mfor\u001B[39;00m _ \u001B[38;5;129;01min\u001B[39;00m metas}\n\u001B[1;32m    174\u001B[0m     \u001B[38;5;28;01mfor\u001B[39;00m record \u001B[38;5;129;01min\u001B[39;00m records:\n\u001B[1;32m    175\u001B[0m         record\u001B[38;5;241m.\u001B[39mmeta \u001B[38;5;241m=\u001B[39m metas\u001B[38;5;241m.\u001B[39mget(record\u001B[38;5;241m.\u001B[39mid)\n",
      "File \u001B[0;32m~/.pyenv/versions/mAIkovsky/lib/python3.10/site-packages/corus/sources/taiga/proza.py:53\u001B[0m, in \u001B[0;36mparse_metas\u001B[0;34m(items)\u001B[0m\n\u001B[1;32m     51\u001B[0m title \u001B[38;5;241m=\u001B[39m item[\u001B[38;5;124m'\u001B[39m\u001B[38;5;124mtitle\u001B[39m\u001B[38;5;124m'\u001B[39m]\n\u001B[1;32m     52\u001B[0m url \u001B[38;5;241m=\u001B[39m item[\u001B[38;5;124m'\u001B[39m\u001B[38;5;124mURL\u001B[39m\u001B[38;5;124m'\u001B[39m]\n\u001B[0;32m---> 53\u001B[0m \u001B[38;5;28;01myield\u001B[39;00m \u001B[43mMeta\u001B[49m\u001B[43m(\u001B[49m\n\u001B[1;32m     54\u001B[0m \u001B[43m    \u001B[49m\u001B[38;5;28;43mid\u001B[39;49m\u001B[38;5;241;43m=\u001B[39;49m\u001B[38;5;28;43mid\u001B[39;49m\u001B[43m,\u001B[49m\n\u001B[1;32m     55\u001B[0m \u001B[43m    \u001B[49m\u001B[43mtimestamp\u001B[49m\u001B[38;5;241;43m=\u001B[39;49m\u001B[43mtimestamp\u001B[49m\u001B[43m,\u001B[49m\n\u001B[1;32m     56\u001B[0m \u001B[43m    \u001B[49m\u001B[43mauthor\u001B[49m\u001B[38;5;241;43m=\u001B[39;49m\u001B[43mauthor\u001B[49m\u001B[43m,\u001B[49m\n\u001B[1;32m     57\u001B[0m \u001B[43m    \u001B[49m\u001B[43mgenre\u001B[49m\u001B[38;5;241;43m=\u001B[39;49m\u001B[43mgenre\u001B[49m\u001B[43m,\u001B[49m\n\u001B[1;32m     58\u001B[0m \u001B[43m    \u001B[49m\u001B[43mtopic\u001B[49m\u001B[38;5;241;43m=\u001B[39;49m\u001B[43mtopic\u001B[49m\u001B[43m,\u001B[49m\n\u001B[1;32m     59\u001B[0m \u001B[43m    \u001B[49m\u001B[43mtitle\u001B[49m\u001B[38;5;241;43m=\u001B[39;49m\u001B[43mtitle\u001B[49m\u001B[43m,\u001B[49m\n\u001B[1;32m     60\u001B[0m \u001B[43m    \u001B[49m\u001B[43murl\u001B[49m\u001B[38;5;241;43m=\u001B[39;49m\u001B[43murl\u001B[49m\n\u001B[1;32m     61\u001B[0m \u001B[43m\u001B[49m\u001B[43m)\u001B[49m\n",
      "File \u001B[0;32m~/.pyenv/versions/mAIkovsky/lib/python3.10/site-packages/corus/sources/taiga/common.py:60\u001B[0m, in \u001B[0;36mMeta.__init__\u001B[0;34m(self, id, timestamp, tags, themes, rubric, genre, topic, author, lang, title, url)\u001B[0m\n\u001B[1;32m     55\u001B[0m \u001B[38;5;28;01mclass\u001B[39;00m \u001B[38;5;21;01mMeta\u001B[39;00m(Record):\n\u001B[1;32m     56\u001B[0m     __attributes__ \u001B[38;5;241m=\u001B[39m [\u001B[38;5;124m'\u001B[39m\u001B[38;5;124mid\u001B[39m\u001B[38;5;124m'\u001B[39m, \u001B[38;5;124m'\u001B[39m\u001B[38;5;124mtimestamp\u001B[39m\u001B[38;5;124m'\u001B[39m, \u001B[38;5;124m'\u001B[39m\u001B[38;5;124mtags\u001B[39m\u001B[38;5;124m'\u001B[39m,\n\u001B[1;32m     57\u001B[0m                       \u001B[38;5;124m'\u001B[39m\u001B[38;5;124mthemes\u001B[39m\u001B[38;5;124m'\u001B[39m, \u001B[38;5;124m'\u001B[39m\u001B[38;5;124mrubric\u001B[39m\u001B[38;5;124m'\u001B[39m, \u001B[38;5;124m'\u001B[39m\u001B[38;5;124mgenre\u001B[39m\u001B[38;5;124m'\u001B[39m, \u001B[38;5;124m'\u001B[39m\u001B[38;5;124mtopic\u001B[39m\u001B[38;5;124m'\u001B[39m,\n\u001B[1;32m     58\u001B[0m                       \u001B[38;5;124m'\u001B[39m\u001B[38;5;124mauthor\u001B[39m\u001B[38;5;124m'\u001B[39m, \u001B[38;5;124m'\u001B[39m\u001B[38;5;124mlang\u001B[39m\u001B[38;5;124m'\u001B[39m, \u001B[38;5;124m'\u001B[39m\u001B[38;5;124mtitle\u001B[39m\u001B[38;5;124m'\u001B[39m, \u001B[38;5;124m'\u001B[39m\u001B[38;5;124murl\u001B[39m\u001B[38;5;124m'\u001B[39m]\n\u001B[0;32m---> 60\u001B[0m     \u001B[38;5;28;01mdef\u001B[39;00m \u001B[38;5;21m__init__\u001B[39m(\u001B[38;5;28mself\u001B[39m, \u001B[38;5;28mid\u001B[39m, timestamp\u001B[38;5;241m=\u001B[39m\u001B[38;5;28;01mNone\u001B[39;00m, tags\u001B[38;5;241m=\u001B[39m\u001B[38;5;28;01mNone\u001B[39;00m,\n\u001B[1;32m     61\u001B[0m                  themes\u001B[38;5;241m=\u001B[39m\u001B[38;5;28;01mNone\u001B[39;00m, rubric\u001B[38;5;241m=\u001B[39m\u001B[38;5;28;01mNone\u001B[39;00m, genre\u001B[38;5;241m=\u001B[39m\u001B[38;5;28;01mNone\u001B[39;00m, topic\u001B[38;5;241m=\u001B[39m\u001B[38;5;28;01mNone\u001B[39;00m,\n\u001B[1;32m     62\u001B[0m                  author\u001B[38;5;241m=\u001B[39m\u001B[38;5;28;01mNone\u001B[39;00m, lang\u001B[38;5;241m=\u001B[39m\u001B[38;5;28;01mNone\u001B[39;00m, title\u001B[38;5;241m=\u001B[39m\u001B[38;5;28;01mNone\u001B[39;00m, url\u001B[38;5;241m=\u001B[39m\u001B[38;5;28;01mNone\u001B[39;00m):\n\u001B[1;32m     63\u001B[0m         \u001B[38;5;28mself\u001B[39m\u001B[38;5;241m.\u001B[39mid \u001B[38;5;241m=\u001B[39m \u001B[38;5;28mid\u001B[39m\n\u001B[1;32m     64\u001B[0m         \u001B[38;5;28mself\u001B[39m\u001B[38;5;241m.\u001B[39mtimestamp \u001B[38;5;241m=\u001B[39m timestamp\n",
      "\u001B[0;31mKeyboardInterrupt\u001B[0m: "
     ]
    }
   ],
   "source": [
    "from data_sets import TaigaStihiCorpus\n",
    "filters = {\n",
    "    'genre': 'лирика'\n",
    "}\n",
    "corpus = TaigaStihiCorpus(filters)\n",
    "for report in corpus:\n",
    "    print(report)\n",
    "    break"
   ],
   "metadata": {
    "collapsed": false,
    "pycharm": {
     "name": "#%%\n"
    }
   }
  },
  {
   "cell_type": "code",
   "execution_count": 172,
   "outputs": [],
   "source": [
    "from gensim.models import Word2Vec\n",
    "model = Word2Vec(sentences=corpus, workers=4, vector_size=300, window=5)"
   ],
   "metadata": {
    "collapsed": false,
    "pycharm": {
     "name": "#%%\n"
    }
   }
  },
  {
   "cell_type": "code",
   "execution_count": 173,
   "outputs": [],
   "source": [
    "model.save('stihi_taiga')"
   ],
   "metadata": {
    "collapsed": false,
    "pycharm": {
     "name": "#%%\n"
    }
   }
  },
  {
   "cell_type": "code",
   "execution_count": 180,
   "outputs": [
    {
     "name": "stdout",
     "output_type": "stream",
     "text": [
      "['как', 'думаешь', 'хорст', 'следует', 'искать', 'ожидать', '?', 'чего', 'такого', 'поворота', 'важного', 'странного', 'хорошего', 'вопроса', 'замечательного', 'ничего', 'хорошего', 'желать', 'конкретного', 'конкретного', 'поворота', 'опасного', 'ужасного', 'страшного', 'серьезного', 'ничего', 'прекрасного']\n"
     ]
    }
   ],
   "source": [
    "from random import choices\n",
    "\n",
    "sentence = ['как', 'думаешь']\n",
    "def next_word():\n",
    "    similars = model.predict_output_word(sentence, topn=50)\n",
    "    words, weights = list(zip(*similars))\n",
    "    return choices(words, weights)[0]\n",
    "\n",
    "\n",
    "for _ in range(25):\n",
    "    sentence.append(next_word())\n",
    "print(sentence)"
   ],
   "metadata": {
    "collapsed": false,
    "pycharm": {
     "name": "#%%\n"
    }
   }
  },
  {
   "cell_type": "code",
   "execution_count": 174,
   "outputs": [],
   "source": [],
   "metadata": {
    "collapsed": false,
    "pycharm": {
     "name": "#%%\n"
    }
   }
  },
  {
   "cell_type": "code",
   "execution_count": 174,
   "outputs": [],
   "source": [],
   "metadata": {
    "collapsed": false,
    "pycharm": {
     "name": "#%%\n"
    }
   }
  }
 ],
 "metadata": {
  "kernelspec": {
   "display_name": "Python 3",
   "language": "python",
   "name": "python3"
  },
  "language_info": {
   "codemirror_mode": {
    "name": "ipython",
    "version": 2
   },
   "file_extension": ".py",
   "mimetype": "text/x-python",
   "name": "python",
   "nbconvert_exporter": "python",
   "pygments_lexer": "ipython2",
   "version": "2.7.6"
  }
 },
 "nbformat": 4,
 "nbformat_minor": 0
}